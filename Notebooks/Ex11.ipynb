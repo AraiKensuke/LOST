{
  "nbformat": 4,
  "nbformat_minor": 0,
  "metadata": {
    "colab": {
      "name": "Untitled15.ipynb",
      "provenance": [],
      "authorship_tag": "ABX9TyOpdl6CNXp3G9Di2YwPR8s9",
      "include_colab_link": true
    },
    "kernelspec": {
      "name": "python3",
      "display_name": "Python 3"
    }
  },
  "cells": [
    {
      "cell_type": "markdown",
      "metadata": {
        "id": "view-in-github",
        "colab_type": "text"
      },
      "source": [
        "<a href=\"https://colab.research.google.com/github/AraiKensuke/LOST/blob/Upgrade_python3/Notebooks/Ex11.ipynb\" target=\"_parent\"><img src=\"https://colab.research.google.com/assets/colab-badge.svg\" alt=\"Open In Colab\"/></a>"
      ]
    },
    {
      "cell_type": "code",
      "metadata": {
        "id": "FPLl78q4f5qp",
        "colab": {
          "base_uri": "https://localhost:8080/"
        },
        "outputId": "29732e2b-4e04-4786-b41c-d9d8b0d9662f"
      },
      "source": [
        "\n",
        "#########  clone and install necessary packages from github repositories\n",
        "\n",
        "import sys\n",
        "import importlib\n",
        "\n",
        "if importlib.util.find_spec(\"pyPG\") is None:\n",
        "  !git clone https://github.com/AraiKensuke/pyPG.git\n",
        "  %cd /content/pyPG/\n",
        "   ###  pyPG is written in C++/python, and uses the C library GNU Scientific Library.  \n",
        "  !sudo apt-get install libgsl-dev    \n",
        "  !python setup.py build_ext --inplace\n",
        "\n",
        "\n",
        "!git clone https://github.com/AraiKensuke/ka_tools.git\n",
        "\n",
        "\n"
      ],
      "execution_count": 1,
      "outputs": [
        {
          "output_type": "stream",
          "text": [
            "Cloning into 'pyPG'...\n",
            "remote: Enumerating objects: 90, done.\u001b[K\n",
            "remote: Total 90 (delta 0), reused 0 (delta 0), pack-reused 90\u001b[K\n",
            "Unpacking objects: 100% (90/90), done.\n",
            "/content/pyPG\n",
            "Reading package lists... Done\n",
            "Building dependency tree       \n",
            "Reading state information... Done\n",
            "The following additional packages will be installed:\n",
            "  libgsl23 libgslcblas0\n",
            "Suggested packages:\n",
            "  gsl-ref-psdoc | gsl-doc-pdf | gsl-doc-info | gsl-ref-html\n",
            "The following NEW packages will be installed:\n",
            "  libgsl-dev libgsl23 libgslcblas0\n",
            "0 upgraded, 3 newly installed, 0 to remove and 13 not upgraded.\n",
            "Need to get 1,926 kB of archives.\n",
            "After this operation, 9,474 kB of additional disk space will be used.\n",
            "Get:1 http://archive.ubuntu.com/ubuntu bionic/universe amd64 libgslcblas0 amd64 2.4+dfsg-6 [79.7 kB]\n",
            "Get:2 http://archive.ubuntu.com/ubuntu bionic/universe amd64 libgsl23 amd64 2.4+dfsg-6 [823 kB]\n",
            "Get:3 http://archive.ubuntu.com/ubuntu bionic/universe amd64 libgsl-dev amd64 2.4+dfsg-6 [1,023 kB]\n",
            "Fetched 1,926 kB in 2s (1,219 kB/s)\n",
            "debconf: unable to initialize frontend: Dialog\n",
            "debconf: (No usable dialog-like program is installed, so the dialog based frontend cannot be used. at /usr/share/perl5/Debconf/FrontEnd/Dialog.pm line 76, <> line 3.)\n",
            "debconf: falling back to frontend: Readline\n",
            "debconf: unable to initialize frontend: Readline\n",
            "debconf: (This frontend requires a controlling tty.)\n",
            "debconf: falling back to frontend: Teletype\n",
            "dpkg-preconfigure: unable to re-open stdin: \n",
            "Selecting previously unselected package libgslcblas0:amd64.\n",
            "(Reading database ... 146374 files and directories currently installed.)\n",
            "Preparing to unpack .../libgslcblas0_2.4+dfsg-6_amd64.deb ...\n",
            "Unpacking libgslcblas0:amd64 (2.4+dfsg-6) ...\n",
            "Selecting previously unselected package libgsl23:amd64.\n",
            "Preparing to unpack .../libgsl23_2.4+dfsg-6_amd64.deb ...\n",
            "Unpacking libgsl23:amd64 (2.4+dfsg-6) ...\n",
            "Selecting previously unselected package libgsl-dev.\n",
            "Preparing to unpack .../libgsl-dev_2.4+dfsg-6_amd64.deb ...\n",
            "Unpacking libgsl-dev (2.4+dfsg-6) ...\n",
            "Setting up libgslcblas0:amd64 (2.4+dfsg-6) ...\n",
            "Setting up libgsl23:amd64 (2.4+dfsg-6) ...\n",
            "Setting up libgsl-dev (2.4+dfsg-6) ...\n",
            "Processing triggers for man-db (2.8.3-2ubuntu0.1) ...\n",
            "Processing triggers for libc-bin (2.27-3ubuntu1.3) ...\n",
            "/sbin/ldconfig.real: /usr/local/lib/python3.6/dist-packages/ideep4py/lib/libmkldnn.so.0 is not a symbolic link\n",
            "\n",
            "/usr/lib/python3.6/distutils/dist.py:261: UserWarning: Unknown distribution option: 'email'\n",
            "  warnings.warn(msg)\n",
            "running build_ext\n",
            "building 'pyPG/pyPG_cpp_module' extension\n",
            "creating build\n",
            "creating build/temp.linux-x86_64-3.6\n",
            "creating build/temp.linux-x86_64-3.6/pyPG\n",
            "creating build/temp.linux-x86_64-3.6/pyPG/include\n",
            "creating build/temp.linux-x86_64-3.6/pyPG/include/RNG\n",
            "g++ -DNDEBUG -g -fwrapv -O2 -Wall -g -fstack-protector-strong -Wformat -Werror=format-security -Wdate-time -D_FORTIFY_SOURCE=2 -fPIC -I/usr/include/python3.6m -I/usr/local/lib/python3.6/dist-packages/numpy/core/include -IpyPG/include/RNG -I/usr/local/include -I/usr/include/python3.6m -c pyPG/PLogitWrapper.cpp -o build/temp.linux-x86_64-3.6/pyPG/PLogitWrapper.o -fPIC -shared -DNTHROW\n",
            "In file included from \u001b[01m\u001b[K/usr/local/lib/python3.6/dist-packages/numpy/core/include/numpy/ndarraytypes.h:1822:0\u001b[m\u001b[K,\n",
            "                 from \u001b[01m\u001b[K/usr/local/lib/python3.6/dist-packages/numpy/core/include/numpy/ndarrayobject.h:12\u001b[m\u001b[K,\n",
            "                 from \u001b[01m\u001b[K/usr/local/lib/python3.6/dist-packages/numpy/core/include/numpy/arrayobject.h:4\u001b[m\u001b[K,\n",
            "                 from \u001b[01m\u001b[KpyPG/PLogitWrapper.cpp:22\u001b[m\u001b[K:\n",
            "\u001b[01m\u001b[K/usr/local/lib/python3.6/dist-packages/numpy/core/include/numpy/npy_1_7_deprecated_api.h:17:2:\u001b[m\u001b[K \u001b[01;35m\u001b[Kwarning: \u001b[m\u001b[K#warning \"Using deprecated NumPy API, disable it with \" \"#define NPY_NO_DEPRECATED_API NPY_1_7_API_VERSION\" [\u001b[01;35m\u001b[K-Wcpp\u001b[m\u001b[K]\n",
            " #\u001b[01;35m\u001b[Kwarning\u001b[m\u001b[K \"Using deprecated NumPy API, disable it with \" \\\n",
            "  \u001b[01;35m\u001b[K^~~~~~~\u001b[m\u001b[K\n",
            "\u001b[01m\u001b[KpyPG/PLogitWrapper.cpp:\u001b[m\u001b[K In function ‘\u001b[01m\u001b[KPyObject* rpg_devroye(PyObject*, PyObject*)\u001b[m\u001b[K’:\n",
            "\u001b[01m\u001b[KpyPG/PLogitWrapper.cpp:51:12:\u001b[m\u001b[K \u001b[01;35m\u001b[Kwarning: \u001b[m\u001b[Kunused variable ‘\u001b[01m\u001b[Ki\u001b[m\u001b[K’ [\u001b[01;35m\u001b[K-Wunused-variable\u001b[m\u001b[K]\n",
            "   int num, \u001b[01;35m\u001b[Ki\u001b[m\u001b[K, xst, nst, zst;\n",
            "            \u001b[01;35m\u001b[K^\u001b[m\u001b[K\n",
            "\u001b[01m\u001b[KpyPG/PLogitWrapper.cpp:51:15:\u001b[m\u001b[K \u001b[01;35m\u001b[Kwarning: \u001b[m\u001b[Kunused variable ‘\u001b[01m\u001b[Kxst\u001b[m\u001b[K’ [\u001b[01;35m\u001b[K-Wunused-variable\u001b[m\u001b[K]\n",
            "   int num, i, \u001b[01;35m\u001b[Kxst\u001b[m\u001b[K, nst, zst;\n",
            "               \u001b[01;35m\u001b[K^~~\u001b[m\u001b[K\n",
            "\u001b[01m\u001b[KpyPG/PLogitWrapper.cpp:51:20:\u001b[m\u001b[K \u001b[01;35m\u001b[Kwarning: \u001b[m\u001b[Kunused variable ‘\u001b[01m\u001b[Knst\u001b[m\u001b[K’ [\u001b[01;35m\u001b[K-Wunused-variable\u001b[m\u001b[K]\n",
            "   int num, i, xst, \u001b[01;35m\u001b[Knst\u001b[m\u001b[K, zst;\n",
            "                    \u001b[01;35m\u001b[K^~~\u001b[m\u001b[K\n",
            "\u001b[01m\u001b[KpyPG/PLogitWrapper.cpp:51:25:\u001b[m\u001b[K \u001b[01;35m\u001b[Kwarning: \u001b[m\u001b[Kunused variable ‘\u001b[01m\u001b[Kzst\u001b[m\u001b[K’ [\u001b[01;35m\u001b[K-Wunused-variable\u001b[m\u001b[K]\n",
            "   int num, i, xst, nst, \u001b[01;35m\u001b[Kzst\u001b[m\u001b[K;\n",
            "                         \u001b[01;35m\u001b[K^~~\u001b[m\u001b[K\n",
            "\u001b[01m\u001b[KpyPG/PLogitWrapper.cpp:\u001b[m\u001b[K In function ‘\u001b[01m\u001b[KPyObject* rpg_gamma(PyObject*, PyObject*)\u001b[m\u001b[K’:\n",
            "\u001b[01m\u001b[KpyPG/PLogitWrapper.cpp:68:12:\u001b[m\u001b[K \u001b[01;35m\u001b[Kwarning: \u001b[m\u001b[Kunused variable ‘\u001b[01m\u001b[Kmxth\u001b[m\u001b[K’ [\u001b[01;35m\u001b[K-Wunused-variable\u001b[m\u001b[K]\n",
            "   int num, \u001b[01;35m\u001b[Kmxth\u001b[m\u001b[K, tid, i, trunc;\n",
            "            \u001b[01;35m\u001b[K^~~~\u001b[m\u001b[K\n",
            "\u001b[01m\u001b[KpyPG/PLogitWrapper.cpp:68:18:\u001b[m\u001b[K \u001b[01;35m\u001b[Kwarning: \u001b[m\u001b[Kunused variable ‘\u001b[01m\u001b[Ktid\u001b[m\u001b[K’ [\u001b[01;35m\u001b[K-Wunused-variable\u001b[m\u001b[K]\n",
            "   int num, mxth, \u001b[01;35m\u001b[Ktid\u001b[m\u001b[K, i, trunc;\n",
            "                  \u001b[01;35m\u001b[K^~~\u001b[m\u001b[K\n",
            "\u001b[01m\u001b[KpyPG/PLogitWrapper.cpp:68:23:\u001b[m\u001b[K \u001b[01;35m\u001b[Kwarning: \u001b[m\u001b[Kunused variable ‘\u001b[01m\u001b[Ki\u001b[m\u001b[K’ [\u001b[01;35m\u001b[K-Wunused-variable\u001b[m\u001b[K]\n",
            "   int num, mxth, tid, \u001b[01;35m\u001b[Ki\u001b[m\u001b[K, trunc;\n",
            "                       \u001b[01;35m\u001b[K^\u001b[m\u001b[K\n",
            "\u001b[01m\u001b[KpyPG/PLogitWrapper.cpp:72:11:\u001b[m\u001b[K \u001b[01;35m\u001b[Kwarning: \u001b[m\u001b[Kunused variable ‘\u001b[01m\u001b[Kdx\u001b[m\u001b[K’ [\u001b[01;35m\u001b[K-Wunused-variable\u001b[m\u001b[K]\n",
            "   double *\u001b[01;35m\u001b[Kdx\u001b[m\u001b[K    = (double*)x->data;\n",
            "           \u001b[01;35m\u001b[K^~\u001b[m\u001b[K\n",
            "\u001b[01m\u001b[KpyPG/PLogitWrapper.cpp:73:11:\u001b[m\u001b[K \u001b[01;35m\u001b[Kwarning: \u001b[m\u001b[Kunused variable ‘\u001b[01m\u001b[Kdh\u001b[m\u001b[K’ [\u001b[01;35m\u001b[K-Wunused-variable\u001b[m\u001b[K]\n",
            "   int    *\u001b[01;35m\u001b[Kdh\u001b[m\u001b[K    = (int*)h->data;\n",
            "           \u001b[01;35m\u001b[K^~\u001b[m\u001b[K\n",
            "\u001b[01m\u001b[KpyPG/PLogitWrapper.cpp:74:11:\u001b[m\u001b[K \u001b[01;35m\u001b[Kwarning: \u001b[m\u001b[Kunused variable ‘\u001b[01m\u001b[Kdz\u001b[m\u001b[K’ [\u001b[01;35m\u001b[K-Wunused-variable\u001b[m\u001b[K]\n",
            "   double *\u001b[01;35m\u001b[Kdz\u001b[m\u001b[K    = (double*)z->data;\n",
            "           \u001b[01;35m\u001b[K^~\u001b[m\u001b[K\n",
            "\u001b[01m\u001b[KpyPG/PLogitWrapper.cpp:\u001b[m\u001b[K In function ‘\u001b[01m\u001b[KPyObject* PyInit_pyPG_cpp_module()\u001b[m\u001b[K’:\n",
            "\u001b[01m\u001b[KpyPG/PLogitWrapper.cpp:89:7:\u001b[m\u001b[K \u001b[01;35m\u001b[Kwarning: \u001b[m\u001b[Kunused variable ‘\u001b[01m\u001b[Ki\u001b[m\u001b[K’ [\u001b[01;35m\u001b[K-Wunused-variable\u001b[m\u001b[K]\n",
            "   int \u001b[01;35m\u001b[Ki\u001b[m\u001b[K;\n",
            "       \u001b[01;35m\u001b[K^\u001b[m\u001b[K\n",
            "\u001b[01m\u001b[KpyPG/PLogitWrapper.cpp:\u001b[m\u001b[K At global scope:\n",
            "\u001b[01m\u001b[KpyPG/PLogitWrapper.cpp:65:18:\u001b[m\u001b[K \u001b[01;35m\u001b[Kwarning: \u001b[m\u001b[K‘\u001b[01m\u001b[KPyObject* rpg_gamma(PyObject*, PyObject*)\u001b[m\u001b[K’ defined but not used [\u001b[01;35m\u001b[K-Wunused-function\u001b[m\u001b[K]\n",
            " static PyObject *\u001b[01;35m\u001b[Krpg_gamma\u001b[m\u001b[K(PyObject *self, PyObject *args)\n",
            "                  \u001b[01;35m\u001b[K^~~~~~~~~\u001b[m\u001b[K\n",
            "In file included from \u001b[01m\u001b[K/usr/local/lib/python3.6/dist-packages/numpy/core/include/numpy/ndarrayobject.h:21:0\u001b[m\u001b[K,\n",
            "                 from \u001b[01m\u001b[K/usr/local/lib/python3.6/dist-packages/numpy/core/include/numpy/arrayobject.h:4\u001b[m\u001b[K,\n",
            "                 from \u001b[01m\u001b[KpyPG/PLogitWrapper.cpp:22\u001b[m\u001b[K:\n",
            "\u001b[01m\u001b[K/usr/local/lib/python3.6/dist-packages/numpy/core/include/numpy/__multiarray_api.h:1463:1:\u001b[m\u001b[K \u001b[01;35m\u001b[Kwarning: \u001b[m\u001b[K‘\u001b[01m\u001b[Kint _import_array()\u001b[m\u001b[K’ defined but not used [\u001b[01;35m\u001b[K-Wunused-function\u001b[m\u001b[K]\n",
            " \u001b[01;35m\u001b[K_import_array\u001b[m\u001b[K(void)\n",
            " \u001b[01;35m\u001b[K^~~~~~~~~~~~~\u001b[m\u001b[K\n",
            "g++ -DNDEBUG -g -fwrapv -O2 -Wall -g -fstack-protector-strong -Wformat -Werror=format-security -Wdate-time -D_FORTIFY_SOURCE=2 -fPIC -I/usr/include/python3.6m -I/usr/local/lib/python3.6/dist-packages/numpy/core/include -IpyPG/include/RNG -I/usr/local/include -I/usr/include/python3.6m -c pyPG/PolyaGamma.cpp -o build/temp.linux-x86_64-3.6/pyPG/PolyaGamma.o -fPIC -shared -DNTHROW\n",
            "g++ -DNDEBUG -g -fwrapv -O2 -Wall -g -fstack-protector-strong -Wformat -Werror=format-security -Wdate-time -D_FORTIFY_SOURCE=2 -fPIC -I/usr/include/python3.6m -I/usr/local/lib/python3.6/dist-packages/numpy/core/include -IpyPG/include/RNG -I/usr/local/include -I/usr/include/python3.6m -c pyPG/PolyaGammaAlt.cpp -o build/temp.linux-x86_64-3.6/pyPG/PolyaGammaAlt.o -fPIC -shared -DNTHROW\n",
            "g++ -DNDEBUG -g -fwrapv -O2 -Wall -g -fstack-protector-strong -Wformat -Werror=format-security -Wdate-time -D_FORTIFY_SOURCE=2 -fPIC -I/usr/include/python3.6m -I/usr/local/lib/python3.6/dist-packages/numpy/core/include -IpyPG/include/RNG -I/usr/local/include -I/usr/include/python3.6m -c pyPG/PolyaGammaSP.cpp -o build/temp.linux-x86_64-3.6/pyPG/PolyaGammaSP.o -fPIC -shared -DNTHROW\n",
            "g++ -DNDEBUG -g -fwrapv -O2 -Wall -g -fstack-protector-strong -Wformat -Werror=format-security -Wdate-time -D_FORTIFY_SOURCE=2 -fPIC -I/usr/include/python3.6m -I/usr/local/lib/python3.6/dist-packages/numpy/core/include -IpyPG/include/RNG -I/usr/local/include -I/usr/include/python3.6m -c pyPG/LogitWrapper.cpp -o build/temp.linux-x86_64-3.6/pyPG/LogitWrapper.o -fPIC -shared -DNTHROW\n",
            "g++ -DNDEBUG -g -fwrapv -O2 -Wall -g -fstack-protector-strong -Wformat -Werror=format-security -Wdate-time -D_FORTIFY_SOURCE=2 -fPIC -I/usr/include/python3.6m -I/usr/local/lib/python3.6/dist-packages/numpy/core/include -IpyPG/include/RNG -I/usr/local/include -I/usr/include/python3.6m -c pyPG/FSF_nmix.cpp -o build/temp.linux-x86_64-3.6/pyPG/FSF_nmix.o -fPIC -shared -DNTHROW\n",
            "g++ -DNDEBUG -g -fwrapv -O2 -Wall -g -fstack-protector-strong -Wformat -Werror=format-security -Wdate-time -D_FORTIFY_SOURCE=2 -fPIC -I/usr/include/python3.6m -I/usr/local/lib/python3.6/dist-packages/numpy/core/include -IpyPG/include/RNG -I/usr/local/include -I/usr/include/python3.6m -c pyPG/InvertY.cpp -o build/temp.linux-x86_64-3.6/pyPG/InvertY.o -fPIC -shared -DNTHROW\n",
            "g++ -DNDEBUG -g -fwrapv -O2 -Wall -g -fstack-protector-strong -Wformat -Werror=format-security -Wdate-time -D_FORTIFY_SOURCE=2 -fPIC -I/usr/include/python3.6m -I/usr/local/lib/python3.6/dist-packages/numpy/core/include -IpyPG/include/RNG -I/usr/local/include -I/usr/include/python3.6m -c pyPG/InvertY2.cpp -o build/temp.linux-x86_64-3.6/pyPG/InvertY2.o -fPIC -shared -DNTHROW\n",
            "g++ -DNDEBUG -g -fwrapv -O2 -Wall -g -fstack-protector-strong -Wformat -Werror=format-security -Wdate-time -D_FORTIFY_SOURCE=2 -fPIC -I/usr/include/python3.6m -I/usr/local/lib/python3.6/dist-packages/numpy/core/include -IpyPG/include/RNG -I/usr/local/include -I/usr/include/python3.6m -c pyPG/HHWrapper.cpp -o build/temp.linux-x86_64-3.6/pyPG/HHWrapper.o -fPIC -shared -DNTHROW\n",
            "g++ -DNDEBUG -g -fwrapv -O2 -Wall -g -fstack-protector-strong -Wformat -Werror=format-security -Wdate-time -D_FORTIFY_SOURCE=2 -fPIC -I/usr/include/python3.6m -I/usr/local/lib/python3.6/dist-packages/numpy/core/include -IpyPG/include/RNG -I/usr/local/include -I/usr/include/python3.6m -c pyPG/include/RNG/GRNG.cpp -o build/temp.linux-x86_64-3.6/pyPG/include/RNG/GRNG.o -fPIC -shared -DNTHROW\n",
            "g++ -DNDEBUG -g -fwrapv -O2 -Wall -g -fstack-protector-strong -Wformat -Werror=format-security -Wdate-time -D_FORTIFY_SOURCE=2 -fPIC -I/usr/include/python3.6m -I/usr/local/lib/python3.6/dist-packages/numpy/core/include -IpyPG/include/RNG -I/usr/local/include -I/usr/include/python3.6m -c pyPG/include/RNG/RNG.cpp -o build/temp.linux-x86_64-3.6/pyPG/include/RNG/RNG.o -fPIC -shared -DNTHROW\n",
            "g++ -pthread -shared -Wl,-O1 -Wl,-Bsymbolic-functions -Wl,-Bsymbolic-functions -Wl,-z,relro -Wl,-Bsymbolic-functions -Wl,-z,relro -g -fstack-protector-strong -Wformat -Werror=format-security -Wdate-time -D_FORTIFY_SOURCE=2 build/temp.linux-x86_64-3.6/pyPG/PLogitWrapper.o build/temp.linux-x86_64-3.6/pyPG/PolyaGamma.o build/temp.linux-x86_64-3.6/pyPG/PolyaGammaAlt.o build/temp.linux-x86_64-3.6/pyPG/PolyaGammaSP.o build/temp.linux-x86_64-3.6/pyPG/LogitWrapper.o build/temp.linux-x86_64-3.6/pyPG/FSF_nmix.o build/temp.linux-x86_64-3.6/pyPG/InvertY.o build/temp.linux-x86_64-3.6/pyPG/InvertY2.o build/temp.linux-x86_64-3.6/pyPG/HHWrapper.o build/temp.linux-x86_64-3.6/pyPG/include/RNG/GRNG.o build/temp.linux-x86_64-3.6/pyPG/include/RNG/RNG.o -L/usr/local/lib -lgsl -o /content/pyPG/pyPG/pyPG_cpp_module.cpython-36m-x86_64-linux-gnu.so -lgsl -lgslcblas\n",
            "Cloning into 'ka_tools'...\n",
            "remote: Enumerating objects: 7, done.\u001b[K\n",
            "remote: Counting objects: 100% (7/7), done.\u001b[K\n",
            "remote: Compressing objects: 100% (5/5), done.\u001b[K\n",
            "remote: Total 7 (delta 1), reused 7 (delta 1), pack-reused 0\u001b[K\n",
            "Unpacking objects: 100% (7/7), done.\n"
          ],
          "name": "stdout"
        }
      ]
    },
    {
      "cell_type": "code",
      "metadata": {
        "id": "hMT1FQbtraW7",
        "outputId": "b6155c84-e55f-4e5e-bc79-1d59c6bdd350",
        "colab": {
          "base_uri": "https://localhost:8080/"
        }
      },
      "source": [
        "if True:#importlib.util.find_spec(\"LOST\") is None:\n",
        "  %cd /content\n",
        "  !git clone https://github.com/AraiKensuke/LOST.git\n",
        "  %cd /content/LOST\n",
        "\n",
        "!python setup.py build_ext --inplace\n",
        "\n",
        "sys.path.insert(1, \"/content/LOST\")    #  add these to searchpath for python modules\n",
        "sys.path.insert(1, \"/content/pyPG\")    #  add these to searchpath for python modules\n",
        "%cd ..\n",
        "\n",
        "\n",
        "#from google.colab import files\n",
        "#uploaded = files.upload()"
      ],
      "execution_count": 2,
      "outputs": [
        {
          "output_type": "stream",
          "text": [
            "/content\n",
            "Cloning into 'LOST'...\n",
            "remote: Enumerating objects: 301, done.\u001b[K\n",
            "remote: Counting objects: 100% (301/301), done.\u001b[K\n",
            "remote: Compressing objects: 100% (231/231), done.\u001b[K\n",
            "remote: Total 442 (delta 131), reused 209 (delta 66), pack-reused 141\u001b[K\n",
            "Receiving objects: 100% (442/442), 25.90 MiB | 22.50 MiB/s, done.\n",
            "Resolving deltas: 100% (202/202), done.\n",
            "/content/LOST\n",
            "running build_ext\n",
            "cythoning kfARlibMPmv_ram2.pyx to kfARlibMPmv_ram2.c\n",
            "/usr/local/lib/python3.6/dist-packages/Cython/Compiler/Main.py:369: FutureWarning: Cython directive 'language_level' not set, using 2 for now (Py2). This will change in a later release! File: /content/LOST/kfARlibMPmv_ram2.pyx\n",
            "  tree = Parsing.p_module(s, pxd, full_module_name)\n",
            "building 'kfARlibMPmv_ram2' extension\n",
            "creating build\n",
            "creating build/temp.linux-x86_64-3.6\n",
            "/usr/local/bin/gcc-6 -DNDEBUG -g -fwrapv -O2 -Wall -g -fstack-protector-strong -Wformat -Werror=format-security -Wdate-time -D_FORTIFY_SOURCE=2 -fPIC -I/usr/include/python3.6m -I/usr/local/lib/python3.6/dist-packages/numpy/core/include -IpyPG/include/RNG -I/usr/include/python3.6m -c kfARlibMPmv_ram2.c -o build/temp.linux-x86_64-3.6/kfARlibMPmv_ram2.o -fopenmp -DUSE_OPEN_MP\n",
            "unable to execute '/usr/local/bin/gcc-6': No such file or directory\n",
            "error: command '/usr/local/bin/gcc-6' failed with exit status 1\n",
            "/content\n"
          ],
          "name": "stdout"
        }
      ]
    },
    {
      "cell_type": "code",
      "metadata": {
        "id": "KBapb_ff8Rd_",
        "colab": {
          "base_uri": "https://localhost:8080/"
        },
        "outputId": "a49cc187-1c31-4649-cd7d-0dfe3a1f5002"
      },
      "source": [
        "\"\"\"\n",
        "Template to invoke Latent Oscillation in Spike Train (LOST) model\n",
        "\n",
        "There are \n",
        "\"\"\"\n",
        "\n",
        "import numpy as _N\n",
        "import os \n",
        "import LOST.mcmcARp_ram as _mARp\n",
        "import ka_tools.filetools as _katft\n",
        "import inspect\n",
        "\n",
        "#########    \n",
        "import LOST.exampledat.ex1 as exmp\n",
        "spkdatfn=\"ex1\"\n",
        "basespkdatfn=spkdatfn\n",
        "_katft.make_deep_directory(\"DATA/%s\"  % basespkdatfn)\n",
        "spkdatpath=\"DATA/%s/spk_dat.dat\"  % basespkdatfn\n",
        "\n",
        "_N.savetxt(spkdatpath, exmp.spk_dat, fmt=\"%d\")\n",
        "\n",
        "runlabel = 1\n",
        "outdir=\"OUT/%(bsd)s%(rl)d\" % {\"bsd\" : basespkdatfn, \"rl\" : runlabel}\n",
        "_katft.make_deep_directory(outdir)\n",
        "#########\n",
        "\n",
        "myfn = inspect.getfile(inspect.currentframe())\n",
        "os.system(\"cp %(myfn)s %(outdir)s/runLost.py\" % {\"myfn\" : myfn, \"outdir\" : outdir})\n",
        "\n",
        "###################  params and settings\n",
        "bRealDat         = False      #  is our data real data <lfp> <fltrd> <spk 0 1>\n",
        "pkldSmpls        = \"smplsN.dump\"   #  last Gibbs samples, pickled for continuation\n",
        "postModes        = None       #  MAP estimate of parameters\n",
        "dontrun          = False      #  just construct mARp from pickle\n",
        "\n",
        "tr0 = 0\n",
        "tr1 = 5\n",
        "nwpr= \"wp\"\n",
        "R   = 1\n",
        "CnpCs = 3\n",
        "__exec_base_fn__ = inspect.getfile(inspect.currentframe())[0:-3]\n",
        "#nwpr, tr0, tr1, CnpCs, R = pF.parseFN(__exec_base_fn__)\n",
        "Cn               = CnpCs - 1\n",
        "\n",
        "mARp = _mARp.mcmcARp()\n",
        "if nwpr == \"wp\":\n",
        "    mARp.sig_ph0H =-(0.97*0.97)\n",
        "\n",
        "mARp.mcmcRunDir = outdir\n",
        "mARp.burn     = 1000\n",
        "mARp.ITERS    = 10000\n",
        "mARp.NMC      = 0\n",
        "mARp.peek     = 200\n",
        "mARp.model    = \"bernoulli\"\n",
        "mARp.t0       = 0\n",
        "mARp.t1       = 1500\n",
        "mARp.ID_q2    = False\n",
        "mARp.bpsth    = True\n",
        "#mARp.dohist   = False\n",
        "mARp.dt       = 0.001\n",
        "mARp.histFN   = \"\"\n",
        "mARp.ifs      = [(0.3 / mARp.fSigMax) * _N.pi]    #  initial values\n",
        "mARp.Cn       = Cn\n",
        "mARp.R        = R\n",
        "mARp.knownSigFN= None\n",
        "mARp.xknownSig=0.9\n",
        "mARp.BsmpxSkp = 10\n",
        "mARp.doBsmpx  = True\n",
        "mARp.noAR     = False\n",
        "mARp.processes= 1\n",
        "mARp.downsamp = True\n",
        "\n",
        "mARp.run(spkdatpath, outdir, trials=_N.arange(tr0, tr1), runlatent=False, dontrun=False,\n",
        "          multiply_shape_hyperparam=1, multiply_scale_hyperparam=5, hist_timescale_ms=40, n_interior_knots=5)\n",
        "    \n",
        "#plotFsAmp(mARp, dir=__exec_base_fn__)\n",
        "#mARp.dump_smps(mARp.burn, dir=outdir)\n",
        "\n"
      ],
      "execution_count": null,
      "outputs": [
        {
          "output_type": "stream",
          "text": [
            "DATA\n",
            "DATA/ex1\n",
            "OUT\n",
            "OUT/ex11\n",
            "TR    20\n",
            "[0 1 2 3 4]\n",
            "!!!!!!!!!!!!!!!!!!!!!!   evry    2\n",
            "[0, 1, 2, 3, 4]\n",
            "(20, 750)\n",
            "-2.427941715681653\n",
            "setting prior for innovation 375  3.760e-01\n",
            "*****************\n",
            "35\n",
            "749\n",
            "*****************\n",
            "upto   45\n",
            "oo.N   749\n",
            "maxisi 35\n",
            "[ 0.  2.  4.  6. 11. 18. 27. 37. 45.]\n",
            "0.047123889803846894\n",
            "0.06283185307179587\n",
            "[-0.4       +0.j          0.96999828+0.00182841j  0.96999828-0.00182841j\n",
            "  0.51252953+0.02417028j  0.51252953-0.02417028j  0.37869108+0.02382522j\n",
            "  0.37869108-0.02382522j]\n",
            "R  [-0.40, ..]\n",
            "C  [ 0.97,  0.001]\n",
            "C  [ 0.51,  0.015]\n",
            "C  [ 0.38,  0.020]\n",
            "[ 78.87261841 163.81571448 337.57556314 518.55286699]\n",
            "****!!!!!!!!!!!!!!!!  dohist  True\n",
            "oo.mcmcRunDir    OUT/ex11\n",
            "^^^^^^   allocateSmp  10000\n",
            "!!!!!!!!!!!!!!!!!!!!!!!!!!!!!!\n",
            "[(-0.4+0j), (0.9699982767675818+0.00182840584165027j), (0.9699982767675818-0.00182840584165027j), (0.5125295323975964+0.024170279187225488j), (0.5125295323975964-0.024170279187225488j), (0.3786910811356244+0.02382522336157269j), (0.3786910811356244-0.02382522336157269j)]\n",
            "*****************************\n",
            "[(-0.4+0j)]\n",
            "[(0.9699982767675818+0.00182840584165027j), (0.9699982767675818-0.00182840584165027j), (0.5125295323975964+0.024170279187225488j), (0.5125295323975964-0.024170279187225488j), (0.3786910811356244+0.02382522336157269j), (0.3786910811356244-0.02382522336157269j)]\n",
            "-----------    histknots 9\n",
            "it: 200    mnStd  2.606\n",
            "it: 400    mnStd  2.204\n",
            "******  INTERRUPT\n",
            "it: 600    mnStd  2.385\n",
            "saving state in smpls.dump\n",
            "34.19070839881897\n",
            "done\n"
          ],
          "name": "stdout"
        }
      ]
    },
    {
      "cell_type": "code",
      "metadata": {
        "id": "cX78o_vD-iER",
        "colab": {
          "base_uri": "https://localhost:8080/",
          "height": 282
        },
        "outputId": "b8f46551-ca50-4a45-db51-1efed0d47268"
      },
      "source": [
        "import matplotlib.pyplot as _plt\n",
        "_plt.plot(_N.mean(mARp.Bsmpx[0, 800:, 2:], axis=0))\n",
        "_plt.plot(mARp.y[0]*5)"
      ],
      "execution_count": null,
      "outputs": [
        {
          "output_type": "execute_result",
          "data": {
            "text/plain": [
              "[<matplotlib.lines.Line2D at 0x7f9830b94c88>]"
            ]
          },
          "metadata": {
            "tags": []
          },
          "execution_count": 6
        },
        {
          "output_type": "display_data",
          "data": {
            "image/png": "[encoded data removed]",
            "text/plain": [
              "<Figure size 432x288 with 1 Axes>"
            ]
          },
          "metadata": {
            "tags": [],
            "needs_background": "light"
          }
        }
      ]
    },
    {
      "cell_type": "code",
      "metadata": {
        "id": "WTZrycytBp97",
        "colab": {
          "base_uri": "https://localhost:8080/",
          "height": 282
        },
        "outputId": "f4f52620-1662-4744-bb7b-20844a5b0ee7"
      },
      "source": [
        "_plt.plot(_N.exp(_N.mean(mARp.smp_hist[:, 28000:], axis=1)))\n"
      ],
      "execution_count": null,
      "outputs": [
        {
          "output_type": "execute_result",
          "data": {
            "text/plain": [
              "[<matplotlib.lines.Line2D at 0x7f863fc92240>]"
            ]
          },
          "metadata": {
            "tags": []
          },
          "execution_count": 18
        },
        {
          "output_type": "display_data",
          "data": {
            "image/png": "[encoded data removed]",
            "text/plain": [
              "<Figure size 432x288 with 1 Axes>"
            ]
          },
          "metadata": {
            "tags": [],
            "needs_background": "light"
          }
        }
      ]
    },
    {
      "cell_type": "code",
      "metadata": {
        "id": "luKjp5pueKls",
        "colab": {
          "base_uri": "https://localhost:8080/",
          "height": 282
        },
        "outputId": "f25c5570-6dfe-491b-fd0e-39af22e4b3ac"
      },
      "source": [
        "_plt.plot(exmp.lmbd)"
      ],
      "execution_count": null,
      "outputs": [
        {
          "output_type": "execute_result",
          "data": {
            "text/plain": [
              "[<matplotlib.lines.Line2D at 0x7f863fbba7b8>]"
            ]
          },
          "metadata": {
            "tags": []
          },
          "execution_count": 20
        },
        {
          "output_type": "display_data",
          "data": {
            "image/png": "[encoded data removed]",
            "text/plain": [
              "<Figure size 432x288 with 1 Axes>"
            ]
          },
          "metadata": {
            "tags": [],
            "needs_background": "light"
          }
        }
      ]
    },
    {
      "cell_type": "code",
      "metadata": {
        "id": "r2cuz5ySeayz",
        "colab": {
          "base_uri": "https://localhost:8080/"
        },
        "outputId": "81d3d677-a198-4b9c-cb88-26ab32b4b621"
      },
      "source": [
        "mARp.smp_u"
      ],
      "execution_count": null,
      "outputs": [
        {
          "output_type": "execute_result",
          "data": {
            "text/plain": [
              "array([[-0.0490888 , -0.03458394,  0.07036439, ..., -3.38757111,\n",
              "        -3.01804787, -2.64530902],\n",
              "       [-0.09604988, -0.04170651, -0.22639758, ...,  1.8992428 ,\n",
              "         2.30827616,  2.00892483],\n",
              "       [ 0.08516395, -0.01753229, -0.08640559, ..., -3.2621454 ,\n",
              "        -3.83217974, -3.81250919],\n",
              "       [-0.04276482,  0.06210987,  0.28836939, ...,  3.93691352,\n",
              "         3.65928247,  3.2345147 ],\n",
              "       [ 0.10273954,  0.03171286, -0.04593061, ...,  0.81356018,\n",
              "         0.88266897,  1.21437869]])"
            ]
          },
          "metadata": {
            "tags": []
          },
          "execution_count": 7
        }
      ]
    },
    {
      "cell_type": "code",
      "metadata": {
        "id": "FzA4rk9MilGD"
      },
      "source": [
        ""
      ],
      "execution_count": null,
      "outputs": []
    }
  ]
}