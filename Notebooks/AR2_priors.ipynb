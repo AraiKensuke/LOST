{
  "nbformat": 4,
  "nbformat_minor": 0,
  "metadata": {
    "colab": {
      "name": "Untitled15.ipynb",
      "provenance": [],
      "authorship_tag": "ABX9TyOOKvtyq38Pd6845LDSPOEE",
      "include_colab_link": true
    },
    "kernelspec": {
      "name": "python3",
      "display_name": "Python 3"
    }
  },
  "cells": [
    {
      "cell_type": "markdown",
      "metadata": {
        "id": "view-in-github",
        "colab_type": "text"
      },
      "source": [
        "<a href=\"https://colab.research.google.com/github/AraiKensuke/LOST/blob/master/Notebooks/AR2_priors.ipynb\" target=\"_parent\"><img src=\"https://colab.research.google.com/assets/colab-badge.svg\" alt=\"Open In Colab\"/></a>"
      ]
    },
    {
      "cell_type": "markdown",
      "metadata": {
        "id": "sauXwVRVJN-4"
      },
      "source": [
        "***The (implied) prior distribution when we sample from the likelihood of the AR coefficients, ie the prior is uniform over the coefficients***"
      ]
    },
    {
      "cell_type": "code",
      "metadata": {
        "id": "hMT1FQbtraW7",
        "colab": {
          "base_uri": "https://localhost:8080/"
        },
        "outputId": "95a52359-cbd1-4fb8-b99f-7bbb06a804d2"
      },
      "source": [
        "import sys\n",
        "import importlib\n",
        "\n",
        "if importlib.util.find_spec(\"LOST\") is None:\n",
        "  %cd /content\n",
        "  !git clone https://github.com/AraiKensuke/LOST.git\n",
        "  %cd /content/LOST\n",
        "\n",
        "!python setup.py build_ext --inplace\n",
        "\n",
        "sys.path.insert(1, \"/content/LOST\")    #  add these to searchpath for python modules\n",
        "sys.path.insert(1, \"/content/pyPG\")    #  add these to searchpath for python modules\n",
        "\n",
        "#from google.colab import files\n",
        "#uploaded = files.upload()"
      ],
      "execution_count": 2,
      "outputs": [
        {
          "output_type": "stream",
          "text": [
            "/content\n",
            "Cloning into 'LOST'...\n",
            "remote: Enumerating objects: 452, done.\u001b[K\n",
            "remote: Counting objects: 100% (452/452), done.\u001b[K\n",
            "remote: Compressing objects: 100% (337/337), done.\u001b[K\n",
            "remote: Total 593 (delta 228), reused 296 (delta 111), pack-reused 141\u001b[K\n",
            "Receiving objects: 100% (593/593), 43.45 MiB | 24.80 MiB/s, done.\n",
            "Resolving deltas: 100% (299/299), done.\n",
            "/content/LOST\n",
            "running build_ext\n",
            "cythoning kfARlibMPmv_ram2.pyx to kfARlibMPmv_ram2.c\n",
            "/usr/local/lib/python3.7/dist-packages/Cython/Compiler/Main.py:369: FutureWarning: Cython directive 'language_level' not set, using 2 for now (Py2). This will change in a later release! File: /content/LOST/kfARlibMPmv_ram2.pyx\n",
            "  tree = Parsing.p_module(s, pxd, full_module_name)\n",
            "building 'kfARlibMPmv_ram2' extension\n",
            "creating build\n",
            "creating build/temp.linux-x86_64-3.7\n",
            "/usr/bin/gcc -Wno-unused-result -Wsign-compare -DNDEBUG -g -fwrapv -O2 -Wall -g -fdebug-prefix-map=/build/python3.7-a56wZI/python3.7-3.7.10=. -fstack-protector-strong -Wformat -Werror=format-security -g -fdebug-prefix-map=/build/python3.7-a56wZI/python3.7-3.7.10=. -fstack-protector-strong -Wformat -Werror=format-security -Wdate-time -D_FORTIFY_SOURCE=2 -fPIC -I/usr/include/python3.7m -I/usr/local/lib/python3.7/dist-packages/numpy/core/include -IpyPG/include/RNG -I/usr/include/python3.7m -c kfARlibMPmv_ram2.c -o build/temp.linux-x86_64-3.7/kfARlibMPmv_ram2.o -fopenmp -DUSE_OPEN_MP\n",
            "In file included from \u001b[01m\u001b[K/usr/local/lib/python3.7/dist-packages/numpy/core/include/numpy/ndarraytypes.h:1822:0\u001b[m\u001b[K,\n",
            "                 from \u001b[01m\u001b[K/usr/local/lib/python3.7/dist-packages/numpy/core/include/numpy/ndarrayobject.h:12\u001b[m\u001b[K,\n",
            "                 from \u001b[01m\u001b[K/usr/local/lib/python3.7/dist-packages/numpy/core/include/numpy/arrayobject.h:4\u001b[m\u001b[K,\n",
            "                 from \u001b[01m\u001b[KkfARlibMPmv_ram2.c:610\u001b[m\u001b[K:\n",
            "\u001b[01m\u001b[K/usr/local/lib/python3.7/dist-packages/numpy/core/include/numpy/npy_1_7_deprecated_api.h:17:2:\u001b[m\u001b[K \u001b[01;35m\u001b[Kwarning: \u001b[m\u001b[K#warning \"Using deprecated NumPy API, disable it with \" \"#define NPY_NO_DEPRECATED_API NPY_1_7_API_VERSION\" [\u001b[01;35m\u001b[K-Wcpp\u001b[m\u001b[K]\n",
            " #\u001b[01;35m\u001b[Kwarning\u001b[m\u001b[K \"Using deprecated NumPy API, disable it with \" \\\n",
            "  \u001b[01;35m\u001b[K^~~~~~~\u001b[m\u001b[K\n",
            "x86_64-linux-gnu-gcc -pthread -shared -Wl,-O1 -Wl,-Bsymbolic-functions -Wl,-Bsymbolic-functions -Wl,-z,relro -Wl,-Bsymbolic-functions -Wl,-z,relro -g -fdebug-prefix-map=/build/python3.7-a56wZI/python3.7-3.7.10=. -fstack-protector-strong -Wformat -Werror=format-security -Wdate-time -D_FORTIFY_SOURCE=2 build/temp.linux-x86_64-3.7/kfARlibMPmv_ram2.o -L/usr/local/lib -o /content/LOST/kfARlibMPmv_ram2.cpython-37m-x86_64-linux-gnu.so\n",
            "running build_ext\n",
            "cythoning kfARlibMPmv_ram3.pyx to kfARlibMPmv_ram3.c\n",
            "/usr/local/lib/python3.7/dist-packages/Cython/Compiler/Main.py:369: FutureWarning: Cython directive 'language_level' not set, using 2 for now (Py2). This will change in a later release! File: /content/LOST/kfARlibMPmv_ram3.pyx\n",
            "  tree = Parsing.p_module(s, pxd, full_module_name)\n",
            "building 'kfARlibMPmv_ram3' extension\n",
            "/usr/bin/gcc -Wno-unused-result -Wsign-compare -DNDEBUG -g -fwrapv -O2 -Wall -g -fdebug-prefix-map=/build/python3.7-a56wZI/python3.7-3.7.10=. -fstack-protector-strong -Wformat -Werror=format-security -g -fdebug-prefix-map=/build/python3.7-a56wZI/python3.7-3.7.10=. -fstack-protector-strong -Wformat -Werror=format-security -Wdate-time -D_FORTIFY_SOURCE=2 -fPIC -I/usr/include/python3.7m -I/usr/local/lib/python3.7/dist-packages/numpy/core/include -IpyPG/include/RNG -I/usr/include/python3.7m -c kfARlibMPmv_ram3.c -o build/temp.linux-x86_64-3.7/kfARlibMPmv_ram3.o -fopenmp -DUSE_OPEN_MP\n",
            "In file included from \u001b[01m\u001b[K/usr/local/lib/python3.7/dist-packages/numpy/core/include/numpy/ndarraytypes.h:1822:0\u001b[m\u001b[K,\n",
            "                 from \u001b[01m\u001b[K/usr/local/lib/python3.7/dist-packages/numpy/core/include/numpy/ndarrayobject.h:12\u001b[m\u001b[K,\n",
            "                 from \u001b[01m\u001b[K/usr/local/lib/python3.7/dist-packages/numpy/core/include/numpy/arrayobject.h:4\u001b[m\u001b[K,\n",
            "                 from \u001b[01m\u001b[KkfARlibMPmv_ram3.c:610\u001b[m\u001b[K:\n",
            "\u001b[01m\u001b[K/usr/local/lib/python3.7/dist-packages/numpy/core/include/numpy/npy_1_7_deprecated_api.h:17:2:\u001b[m\u001b[K \u001b[01;35m\u001b[Kwarning: \u001b[m\u001b[K#warning \"Using deprecated NumPy API, disable it with \" \"#define NPY_NO_DEPRECATED_API NPY_1_7_API_VERSION\" [\u001b[01;35m\u001b[K-Wcpp\u001b[m\u001b[K]\n",
            " #\u001b[01;35m\u001b[Kwarning\u001b[m\u001b[K \"Using deprecated NumPy API, disable it with \" \\\n",
            "  \u001b[01;35m\u001b[K^~~~~~~\u001b[m\u001b[K\n",
            "x86_64-linux-gnu-gcc -pthread -shared -Wl,-O1 -Wl,-Bsymbolic-functions -Wl,-Bsymbolic-functions -Wl,-z,relro -Wl,-Bsymbolic-functions -Wl,-z,relro -g -fdebug-prefix-map=/build/python3.7-a56wZI/python3.7-3.7.10=. -fstack-protector-strong -Wformat -Werror=format-security -Wdate-time -D_FORTIFY_SOURCE=2 build/temp.linux-x86_64-3.7/kfARlibMPmv_ram3.o -L/usr/local/lib -o /content/LOST/kfARlibMPmv_ram3.cpython-37m-x86_64-linux-gnu.so\n",
            "running build_ext\n",
            "cythoning kdist.pyx to kdist.c\n",
            "/usr/local/lib/python3.7/dist-packages/Cython/Compiler/Main.py:369: FutureWarning: Cython directive 'language_level' not set, using 2 for now (Py2). This will change in a later release! File: /content/LOST/kdist.pyx\n",
            "  tree = Parsing.p_module(s, pxd, full_module_name)\n",
            "building 'kdist' extension\n",
            "/usr/bin/gcc -Wno-unused-result -Wsign-compare -DNDEBUG -g -fwrapv -O2 -Wall -g -fdebug-prefix-map=/build/python3.7-a56wZI/python3.7-3.7.10=. -fstack-protector-strong -Wformat -Werror=format-security -g -fdebug-prefix-map=/build/python3.7-a56wZI/python3.7-3.7.10=. -fstack-protector-strong -Wformat -Werror=format-security -Wdate-time -D_FORTIFY_SOURCE=2 -fPIC -I/usr/include/python3.7m -I/usr/local/lib/python3.7/dist-packages/numpy/core/include -IpyPG/include/RNG -I/usr/include/python3.7m -c kdist.c -o build/temp.linux-x86_64-3.7/kdist.o -fopenmp -DUSE_OPEN_MP\n",
            "x86_64-linux-gnu-gcc -pthread -shared -Wl,-O1 -Wl,-Bsymbolic-functions -Wl,-Bsymbolic-functions -Wl,-z,relro -Wl,-Bsymbolic-functions -Wl,-z,relro -g -fdebug-prefix-map=/build/python3.7-a56wZI/python3.7-3.7.10=. -fstack-protector-strong -Wformat -Werror=format-security -Wdate-time -D_FORTIFY_SOURCE=2 build/temp.linux-x86_64-3.7/kdist.o -L/usr/local/lib -o /content/LOST/kdist.cpython-37m-x86_64-linux-gnu.so\n",
            "running build_ext\n",
            "cythoning ARcfSmplNoMCMC_ram.pyx to ARcfSmplNoMCMC_ram.c\n",
            "/usr/local/lib/python3.7/dist-packages/Cython/Compiler/Main.py:369: FutureWarning: Cython directive 'language_level' not set, using 2 for now (Py2). This will change in a later release! File: /content/LOST/ARcfSmplNoMCMC_ram.pyx\n",
            "  tree = Parsing.p_module(s, pxd, full_module_name)\n",
            "building 'ARcfSmplNoMCMC_ram' extension\n",
            "/usr/bin/gcc -Wno-unused-result -Wsign-compare -DNDEBUG -g -fwrapv -O2 -Wall -g -fdebug-prefix-map=/build/python3.7-a56wZI/python3.7-3.7.10=. -fstack-protector-strong -Wformat -Werror=format-security -g -fdebug-prefix-map=/build/python3.7-a56wZI/python3.7-3.7.10=. -fstack-protector-strong -Wformat -Werror=format-security -Wdate-time -D_FORTIFY_SOURCE=2 -fPIC -I/usr/include/python3.7m -I/usr/local/lib/python3.7/dist-packages/numpy/core/include -IpyPG/include/RNG -I/usr/include/python3.7m -c ARcfSmplNoMCMC_ram.c -o build/temp.linux-x86_64-3.7/ARcfSmplNoMCMC_ram.o -fopenmp -DUSE_OPEN_MP\n",
            "x86_64-linux-gnu-gcc -pthread -shared -Wl,-O1 -Wl,-Bsymbolic-functions -Wl,-Bsymbolic-functions -Wl,-z,relro -Wl,-Bsymbolic-functions -Wl,-z,relro -g -fdebug-prefix-map=/build/python3.7-a56wZI/python3.7-3.7.10=. -fstack-protector-strong -Wformat -Werror=format-security -Wdate-time -D_FORTIFY_SOURCE=2 build/temp.linux-x86_64-3.7/ARcfSmplNoMCMC_ram.o -L/usr/local/lib -o /content/LOST/ARcfSmplNoMCMC_ram.cpython-37m-x86_64-linux-gnu.so\n",
            "running build_ext\n",
            "cythoning inv_cov.pyx to inv_cov.c\n",
            "/usr/local/lib/python3.7/dist-packages/Cython/Compiler/Main.py:369: FutureWarning: Cython directive 'language_level' not set, using 2 for now (Py2). This will change in a later release! File: /content/LOST/inv_cov.pyx\n",
            "  tree = Parsing.p_module(s, pxd, full_module_name)\n",
            "building 'inv_cov' extension\n",
            "/usr/bin/gcc -Wno-unused-result -Wsign-compare -DNDEBUG -g -fwrapv -O2 -Wall -g -fdebug-prefix-map=/build/python3.7-a56wZI/python3.7-3.7.10=. -fstack-protector-strong -Wformat -Werror=format-security -g -fdebug-prefix-map=/build/python3.7-a56wZI/python3.7-3.7.10=. -fstack-protector-strong -Wformat -Werror=format-security -Wdate-time -D_FORTIFY_SOURCE=2 -fPIC -I/usr/include/python3.7m -I/usr/local/lib/python3.7/dist-packages/numpy/core/include -IpyPG/include/RNG -I/usr/include/python3.7m -c inv_cov.c -o build/temp.linux-x86_64-3.7/inv_cov.o -fopenmp -DUSE_OPEN_MP\n",
            "In file included from \u001b[01m\u001b[K/usr/local/lib/python3.7/dist-packages/numpy/core/include/numpy/ndarraytypes.h:1822:0\u001b[m\u001b[K,\n",
            "                 from \u001b[01m\u001b[K/usr/local/lib/python3.7/dist-packages/numpy/core/include/numpy/ndarrayobject.h:12\u001b[m\u001b[K,\n",
            "                 from \u001b[01m\u001b[K/usr/local/lib/python3.7/dist-packages/numpy/core/include/numpy/arrayobject.h:4\u001b[m\u001b[K,\n",
            "                 from \u001b[01m\u001b[Kinv_cov.c:610\u001b[m\u001b[K:\n",
            "\u001b[01m\u001b[K/usr/local/lib/python3.7/dist-packages/numpy/core/include/numpy/npy_1_7_deprecated_api.h:17:2:\u001b[m\u001b[K \u001b[01;35m\u001b[Kwarning: \u001b[m\u001b[K#warning \"Using deprecated NumPy API, disable it with \" \"#define NPY_NO_DEPRECATED_API NPY_1_7_API_VERSION\" [\u001b[01;35m\u001b[K-Wcpp\u001b[m\u001b[K]\n",
            " #\u001b[01;35m\u001b[Kwarning\u001b[m\u001b[K \"Using deprecated NumPy API, disable it with \" \\\n",
            "  \u001b[01;35m\u001b[K^~~~~~~\u001b[m\u001b[K\n",
            "x86_64-linux-gnu-gcc -pthread -shared -Wl,-O1 -Wl,-Bsymbolic-functions -Wl,-Bsymbolic-functions -Wl,-z,relro -Wl,-Bsymbolic-functions -Wl,-z,relro -g -fdebug-prefix-map=/build/python3.7-a56wZI/python3.7-3.7.10=. -fstack-protector-strong -Wformat -Werror=format-security -Wdate-time -D_FORTIFY_SOURCE=2 build/temp.linux-x86_64-3.7/inv_cov.o -L/usr/local/lib -o /content/LOST/inv_cov.cpython-37m-x86_64-linux-gnu.so\n"
          ],
          "name": "stdout"
        }
      ]
    },
    {
      "cell_type": "markdown",
      "metadata": {
        "id": "HqA-JI7wcR-e"
      },
      "source": [
        "AR(2) components have a frequency and modulus, the higher modulus results in more regular oscillations.  Frequency "
      ]
    },
    {
      "cell_type": "code",
      "metadata": {
        "id": "R16VQcReShUR",
        "colab": {
          "base_uri": "https://localhost:8080/",
          "height": 552
        },
        "outputId": "a6454508-9667-4d87-9739-b42ae3d152b3"
      },
      "source": [
        "#  eigenvalue of AR\n",
        "import LOST.ARlib as _arl\n",
        "from LOST.ARcfSmplFuncs import ampAngRep, buildLims, FfromLims, dcmpcff, initF\n",
        "import numpy as _N\n",
        "import matplotlib.pyplot as _plt\n",
        "\n",
        "#  the actual eigenvalues need | eigenvalue | < 1.  (1 / ev) > 1\n",
        "\n",
        "k    = 2\n",
        "N    = 2000\n",
        "ra   = 0\n",
        "rb   = 1\n",
        "\n",
        "#########  imaginary roots\n",
        "amps  = _N.random.rand(N) * (rb - ra) + ra\n",
        "phs  = _N.random.rand(N) * _N.pi      #  phs from 0 -> pi   (well, 4pi/N, but large N->0)\n",
        "Fsi  = _N.empty((N, 2))\n",
        "\n",
        "for n in range(N):\n",
        "    ph = phs[n]\n",
        "    r1 = amps[n] * (_N.cos(ph) + 1j * _N.sin(ph))\n",
        "    r2 = amps[n] * (_N.cos(ph) - 1j * _N.sin(ph))\n",
        "\n",
        "    A = _N.array([[r1, 1], [r2, 1]])\n",
        "    B = _N.array([[r1*r1], [r2*r2]])\n",
        "\n",
        "    F1, F2 = _N.linalg.solve(A, B)\n",
        "    F      = _N.array([F1, F2]).real\n",
        "    Fsi[n, 0] = F[0]\n",
        "    Fsi[n, 1] = F[1]\n",
        "\n",
        "    # bBdd, iBdd, rts = _arl.cmplxRoots(F)\n",
        "    # if not bBdd:\n",
        "    #     print \"Woops\"\n",
        "\n",
        "\n",
        "##########  real roots\n",
        "amps = _N.random.rand(N, k) * (rb - ra) + ra\n",
        "Fsr  = _N.empty((N, 2))\n",
        "\n",
        "###  \n",
        "for n in range(N):\n",
        "    r1 = -1 + amps[n, 0] * 2\n",
        "    r2 = -1 + amps[n, 1] * 2\n",
        "\n",
        "    A = _N.array([[r1, 1], [r2, 1]])\n",
        "    B = _N.array([[r1*r1], [r2*r2]])\n",
        "\n",
        "    F1, F2 = _N.linalg.solve(A, B)\n",
        "    F      = _N.array([F1, F2])\n",
        "    Fsr[n, 0] = F[0]\n",
        "    Fsr[n, 1] = F[1]\n",
        "\n",
        "#    bBdd, iBdd, rts = _arl.cmplxRoots(F)\n",
        "#    if not bBdd:\n",
        "#        print \"Woops\"\n",
        "\n",
        "\n",
        "x = _N.linspace(-2, 2, 201)\n",
        "y = 0.25*(4 - x**2) - 1\n",
        "    \n",
        "#  rts == (1./(r1*r1.conjugate())), (1./(r1*r1.conjugate()))\n",
        "fig = _plt.figure(figsize=(5, 4))\n",
        "fig.add_subplot(1, 1, 1)\n",
        "_plt.scatter(Fsr[:, 0], Fsr[:, 1], marker=\".\", s=4, color=\"red\")\n",
        "_plt.plot(x, y, color=\"orange\")\n",
        "_plt.grid()\n",
        "_plt.xlim(-2.5, 2.5)\n",
        "_plt.ylim(-1.5, 1.5)\n",
        "#fig.add_subplot(1, 2, 2)\n",
        "_plt.scatter(Fsi[:, 0], Fsi[:, 1], marker=\".\", s=4, color=\"black\")\n",
        "_plt.plot(x, y, color=\"orange\")\n",
        "_plt.grid()\n",
        "_plt.xlim(-2.5, 2.5)\n",
        "_plt.ylim(-1.5, 1.5)\n",
        "_plt.xlabel(r\"$F_1$\")\n",
        "_plt.ylabel(r\"$F_0$\")\n",
        "\n",
        "#  Sample oscillatory AR(2) coefficients\n",
        "\n",
        "#  First sample uniform [-2, 2] x [-2, 2]\n",
        "#  Reject if c2 < 0.25*(4-c1**2)-1 or c2 > c1+1 if c1 < 0 \n",
        "#   or c2 > -c1 + 1 if c1 > 0\n",
        "\n",
        "N = 10000\n",
        "c12_cands = _N.empty((N, 2))\n",
        "c12_cands[:, 0] = 4*(_N.random.rand(N)-0.5)\n",
        "c12_cands[:, 1] = 2*(_N.random.rand(N)-0.5)\n",
        "\n",
        "c12 = []\n",
        "for n in range(N):\n",
        "    c1 = c12_cands[n, 0]\n",
        "    c2 = c12_cands[n, 1]\n",
        "\n",
        "    upper_c2 = 0.25*(4 - c1*c1)-1\n",
        "\n",
        "    bad = False\n",
        "    if c2 > upper_c2:\n",
        "        bad = True\n",
        "        \n",
        "    if not bad:\n",
        "        c12.append([c1, c2])\n",
        "\n",
        "\n",
        "c12s = _N.array(c12)\n",
        "\n",
        "#  AR coefficients\n",
        "#  modulus and angle\n",
        "#  roots\n",
        "\n",
        "#  here, I want to turn AR coefficient into modulus and angle pair\n",
        "\n",
        "\n",
        "Fs=1000\n",
        "amps = _N.zeros(c12s.shape[0])\n",
        "fs   = _N.zeros(c12s.shape[0])\n",
        "\n",
        "#  lambda_u   is n/2 for data length n\n",
        "#  lambda\n",
        "for n in range(c12s.shape[0]):\n",
        "    bBdd, iBdd, mag, F_alfa_rep = _arl.ARroots(_N.array([c12s[n, 0], c12s[n, 1]]))\n",
        "    prt, rank, f, amp = ampAngRep(F_alfa_rep, 1./(Fs/2), f_order=True)\n",
        "    amps[n] = amp[0]\n",
        "    fs[n] = f[0]\n",
        "\n",
        "#  \n",
        "#  my fs is between 0 and 1.  lambda is between [2, lambda_u].\n",
        "#  w = 2pi / lam, so w from 2pi/2=pi   to   2pi/ (N/2) = 4pi/N -> 0\n",
        "#  w 2pi / 2   pi  to    2pi/(N/2) = 4pi/N\n",
        "\n",
        "w = fs*_N.pi   \n",
        "lam = 2*_N.pi / w\n",
        "\n",
        "fig = _plt.figure()\n",
        "lam_x = _N.linspace(2, 52, 101)\n",
        "dx    = lam_x[1] - lam_x[0]\n",
        "_plt.hist(lam, bins=lam_x, density=True, color=\"grey\", edgecolor=\"grey\")\n",
        "A = _N.sum((_N.sin(2*_N.pi/lam_x) / (lam_x*lam_x))*dx)\n",
        "_plt.plot(lam_x, (1/A)*_N.sin(2*_N.pi/lam_x) / (lam_x*lam_x), color=\"black\")\n"
      ],
      "execution_count": 9,
      "outputs": [
        {
          "output_type": "execute_result",
          "data": {
            "text/plain": [
              "[<matplotlib.lines.Line2D at 0x7fc2d80a11d0>]"
            ]
          },
          "metadata": {
            "tags": []
          },
          "execution_count": 9
        },
        {
          "output_type": "display_data",
          "data": {
            "image/png": "[encoded data removed]",
            "text/plain": [
              "<Figure size 360x288 with 1 Axes>"
            ]
          },
          "metadata": {
            "tags": [],
            "needs_background": "light"
          }
        },
        {
          "output_type": "display_data",
          "data": {
            "image/png": "[encoded data removed]",
            "text/plain": [
              "<Figure size 432x288 with 1 Axes>"
            ]
          },
          "metadata": {
            "tags": [],
            "needs_background": "light"
          }
        }
      ]
    },
    {
      "cell_type": "code",
      "metadata": {
        "id": "33kpe5BiKBNl"
      },
      "source": [
        ""
      ],
      "execution_count": null,
      "outputs": []
    }
  ]
}