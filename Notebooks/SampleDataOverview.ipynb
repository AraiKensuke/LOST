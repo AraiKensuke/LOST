{
  "nbformat": 4,
  "nbformat_minor": 0,
  "metadata": {
    "colab": {
      "name": "Untitled15.ipynb",
      "provenance": [],
      "authorship_tag": "ABX9TyP2ywDeNoiBkp9siNMMvjvE",
      "include_colab_link": true
    },
    "kernelspec": {
      "name": "python3",
      "display_name": "Python 3"
    }
  },
  "cells": [
    {
      "cell_type": "markdown",
      "metadata": {
        "id": "view-in-github",
        "colab_type": "text"
      },
      "source": [
        "<a href=\"https://colab.research.google.com/github/AraiKensuke/LOST/blob/Upgrade_python3/Notebooks/SampleDataOverview.ipynb\" target=\"_parent\"><img src=\"https://colab.research.google.com/assets/colab-badge.svg\" alt=\"Open In Colab\"/></a>"
      ]
    },
    {
      "cell_type": "code",
      "metadata": {
        "id": "FPLl78q4f5qp",
        "colab": {
          "base_uri": "https://localhost:8080/"
        },
        "outputId": "d6693aba-7057-4fbb-87eb-2483556ec3c7"
      },
      "source": [
        "\n",
        "#########  clone and install necessary packages from github repositories\n",
        "\n",
        "import sys\n",
        "import importlib\n",
        "\n",
        "if importlib.util.find_spec(\"pyPG\") is None:\n",
        "  !git clone https://github.com/AraiKensuke/pyPG.git\n",
        "  %cd /content/pyPG/\n",
        "   ###  pyPG is written in C++/python, and uses the C library GNU Scientific Library.  \n",
        "  !sudo apt-get install libgsl-dev    \n",
        "  !python setup.py build_ext --inplace\n",
        "\n",
        "\n",
        "!git clone https://github.com/AraiKensuke/ka_tools.git\n",
        "\n",
        "\n"
      ],
      "execution_count": 1,
      "outputs": [
        {
          "output_type": "stream",
          "text": [
            "Cloning into 'pyPG'...\n",
            "remote: Enumerating objects: 90, done.\u001b[K\n",
            "remote: Total 90 (delta 0), reused 0 (delta 0), pack-reused 90\u001b[K\n",
            "Unpacking objects: 100% (90/90), done.\n",
            "/content/pyPG\n",
            "Reading package lists... Done\n",
            "Building dependency tree       \n",
            "Reading state information... Done\n",
            "The following additional packages will be installed:\n",
            "  libgsl23 libgslcblas0\n",
            "Suggested packages:\n",
            "  gsl-ref-psdoc | gsl-doc-pdf | gsl-doc-info | gsl-ref-html\n",
            "The following NEW packages will be installed:\n",
            "  libgsl-dev libgsl23 libgslcblas0\n",
            "0 upgraded, 3 newly installed, 0 to remove and 13 not upgraded.\n",
            "Need to get 1,926 kB of archives.\n",
            "After this operation, 9,474 kB of additional disk space will be used.\n",
            "Get:1 http://archive.ubuntu.com/ubuntu bionic/universe amd64 libgslcblas0 amd64 2.4+dfsg-6 [79.7 kB]\n",
            "Get:2 http://archive.ubuntu.com/ubuntu bionic/universe amd64 libgsl23 amd64 2.4+dfsg-6 [823 kB]\n",
            "Get:3 http://archive.ubuntu.com/ubuntu bionic/universe amd64 libgsl-dev amd64 2.4+dfsg-6 [1,023 kB]\n",
            "Fetched 1,926 kB in 1s (1,943 kB/s)\n",
            "debconf: unable to initialize frontend: Dialog\n",
            "debconf: (No usable dialog-like program is installed, so the dialog based frontend cannot be used. at /usr/share/perl5/Debconf/FrontEnd/Dialog.pm line 76, <> line 3.)\n",
            "debconf: falling back to frontend: Readline\n",
            "debconf: unable to initialize frontend: Readline\n",
            "debconf: (This frontend requires a controlling tty.)\n",
            "debconf: falling back to frontend: Teletype\n",
            "dpkg-preconfigure: unable to re-open stdin: \n",
            "Selecting previously unselected package libgslcblas0:amd64.\n",
            "(Reading database ... 146374 files and directories currently installed.)\n",
            "Preparing to unpack .../libgslcblas0_2.4+dfsg-6_amd64.deb ...\n",
            "Unpacking libgslcblas0:amd64 (2.4+dfsg-6) ...\n",
            "Selecting previously unselected package libgsl23:amd64.\n",
            "Preparing to unpack .../libgsl23_2.4+dfsg-6_amd64.deb ...\n",
            "Unpacking libgsl23:amd64 (2.4+dfsg-6) ...\n",
            "Selecting previously unselected package libgsl-dev.\n",
            "Preparing to unpack .../libgsl-dev_2.4+dfsg-6_amd64.deb ...\n",
            "Unpacking libgsl-dev (2.4+dfsg-6) ...\n",
            "Setting up libgslcblas0:amd64 (2.4+dfsg-6) ...\n",
            "Setting up libgsl23:amd64 (2.4+dfsg-6) ...\n",
            "Setting up libgsl-dev (2.4+dfsg-6) ...\n",
            "Processing triggers for man-db (2.8.3-2ubuntu0.1) ...\n",
            "Processing triggers for libc-bin (2.27-3ubuntu1.3) ...\n",
            "/sbin/ldconfig.real: /usr/local/lib/python3.6/dist-packages/ideep4py/lib/libmkldnn.so.0 is not a symbolic link\n",
            "\n",
            "/usr/lib/python3.6/distutils/dist.py:261: UserWarning: Unknown distribution option: 'email'\n",
            "  warnings.warn(msg)\n",
            "running build_ext\n",
            "building 'pyPG/pyPG_cpp_module' extension\n",
            "creating build\n",
            "creating build/temp.linux-x86_64-3.6\n",
            "creating build/temp.linux-x86_64-3.6/pyPG\n",
            "creating build/temp.linux-x86_64-3.6/pyPG/include\n",
            "creating build/temp.linux-x86_64-3.6/pyPG/include/RNG\n",
            "g++ -DNDEBUG -g -fwrapv -O2 -Wall -g -fstack-protector-strong -Wformat -Werror=format-security -Wdate-time -D_FORTIFY_SOURCE=2 -fPIC -I/usr/include/python3.6m -I/usr/local/lib/python3.6/dist-packages/numpy/core/include -IpyPG/include/RNG -I/usr/local/include -I/usr/include/python3.6m -c pyPG/PLogitWrapper.cpp -o build/temp.linux-x86_64-3.6/pyPG/PLogitWrapper.o -fPIC -shared -DNTHROW\n",
            "In file included from \u001b[01m\u001b[K/usr/local/lib/python3.6/dist-packages/numpy/core/include/numpy/ndarraytypes.h:1822:0\u001b[m\u001b[K,\n",
            "                 from \u001b[01m\u001b[K/usr/local/lib/python3.6/dist-packages/numpy/core/include/numpy/ndarrayobject.h:12\u001b[m\u001b[K,\n",
            "                 from \u001b[01m\u001b[K/usr/local/lib/python3.6/dist-packages/numpy/core/include/numpy/arrayobject.h:4\u001b[m\u001b[K,\n",
            "                 from \u001b[01m\u001b[KpyPG/PLogitWrapper.cpp:22\u001b[m\u001b[K:\n",
            "\u001b[01m\u001b[K/usr/local/lib/python3.6/dist-packages/numpy/core/include/numpy/npy_1_7_deprecated_api.h:17:2:\u001b[m\u001b[K \u001b[01;35m\u001b[Kwarning: \u001b[m\u001b[K#warning \"Using deprecated NumPy API, disable it with \" \"#define NPY_NO_DEPRECATED_API NPY_1_7_API_VERSION\" [\u001b[01;35m\u001b[K-Wcpp\u001b[m\u001b[K]\n",
            " #\u001b[01;35m\u001b[Kwarning\u001b[m\u001b[K \"Using deprecated NumPy API, disable it with \" \\\n",
            "  \u001b[01;35m\u001b[K^~~~~~~\u001b[m\u001b[K\n",
            "\u001b[01m\u001b[KpyPG/PLogitWrapper.cpp:\u001b[m\u001b[K In function ‘\u001b[01m\u001b[KPyObject* rpg_devroye(PyObject*, PyObject*)\u001b[m\u001b[K’:\n",
            "\u001b[01m\u001b[KpyPG/PLogitWrapper.cpp:51:12:\u001b[m\u001b[K \u001b[01;35m\u001b[Kwarning: \u001b[m\u001b[Kunused variable ‘\u001b[01m\u001b[Ki\u001b[m\u001b[K’ [\u001b[01;35m\u001b[K-Wunused-variable\u001b[m\u001b[K]\n",
            "   int num, \u001b[01;35m\u001b[Ki\u001b[m\u001b[K, xst, nst, zst;\n",
            "            \u001b[01;35m\u001b[K^\u001b[m\u001b[K\n",
            "\u001b[01m\u001b[KpyPG/PLogitWrapper.cpp:51:15:\u001b[m\u001b[K \u001b[01;35m\u001b[Kwarning: \u001b[m\u001b[Kunused variable ‘\u001b[01m\u001b[Kxst\u001b[m\u001b[K’ [\u001b[01;35m\u001b[K-Wunused-variable\u001b[m\u001b[K]\n",
            "   int num, i, \u001b[01;35m\u001b[Kxst\u001b[m\u001b[K, nst, zst;\n",
            "               \u001b[01;35m\u001b[K^~~\u001b[m\u001b[K\n",
            "\u001b[01m\u001b[KpyPG/PLogitWrapper.cpp:51:20:\u001b[m\u001b[K \u001b[01;35m\u001b[Kwarning: \u001b[m\u001b[Kunused variable ‘\u001b[01m\u001b[Knst\u001b[m\u001b[K’ [\u001b[01;35m\u001b[K-Wunused-variable\u001b[m\u001b[K]\n",
            "   int num, i, xst, \u001b[01;35m\u001b[Knst\u001b[m\u001b[K, zst;\n",
            "                    \u001b[01;35m\u001b[K^~~\u001b[m\u001b[K\n",
            "\u001b[01m\u001b[KpyPG/PLogitWrapper.cpp:51:25:\u001b[m\u001b[K \u001b[01;35m\u001b[Kwarning: \u001b[m\u001b[Kunused variable ‘\u001b[01m\u001b[Kzst\u001b[m\u001b[K’ [\u001b[01;35m\u001b[K-Wunused-variable\u001b[m\u001b[K]\n",
            "   int num, i, xst, nst, \u001b[01;35m\u001b[Kzst\u001b[m\u001b[K;\n",
            "                         \u001b[01;35m\u001b[K^~~\u001b[m\u001b[K\n",
            "\u001b[01m\u001b[KpyPG/PLogitWrapper.cpp:\u001b[m\u001b[K In function ‘\u001b[01m\u001b[KPyObject* rpg_gamma(PyObject*, PyObject*)\u001b[m\u001b[K’:\n",
            "\u001b[01m\u001b[KpyPG/PLogitWrapper.cpp:68:12:\u001b[m\u001b[K \u001b[01;35m\u001b[Kwarning: \u001b[m\u001b[Kunused variable ‘\u001b[01m\u001b[Kmxth\u001b[m\u001b[K’ [\u001b[01;35m\u001b[K-Wunused-variable\u001b[m\u001b[K]\n",
            "   int num, \u001b[01;35m\u001b[Kmxth\u001b[m\u001b[K, tid, i, trunc;\n",
            "            \u001b[01;35m\u001b[K^~~~\u001b[m\u001b[K\n",
            "\u001b[01m\u001b[KpyPG/PLogitWrapper.cpp:68:18:\u001b[m\u001b[K \u001b[01;35m\u001b[Kwarning: \u001b[m\u001b[Kunused variable ‘\u001b[01m\u001b[Ktid\u001b[m\u001b[K’ [\u001b[01;35m\u001b[K-Wunused-variable\u001b[m\u001b[K]\n",
            "   int num, mxth, \u001b[01;35m\u001b[Ktid\u001b[m\u001b[K, i, trunc;\n",
            "                  \u001b[01;35m\u001b[K^~~\u001b[m\u001b[K\n",
            "\u001b[01m\u001b[KpyPG/PLogitWrapper.cpp:68:23:\u001b[m\u001b[K \u001b[01;35m\u001b[Kwarning: \u001b[m\u001b[Kunused variable ‘\u001b[01m\u001b[Ki\u001b[m\u001b[K’ [\u001b[01;35m\u001b[K-Wunused-variable\u001b[m\u001b[K]\n",
            "   int num, mxth, tid, \u001b[01;35m\u001b[Ki\u001b[m\u001b[K, trunc;\n",
            "                       \u001b[01;35m\u001b[K^\u001b[m\u001b[K\n",
            "\u001b[01m\u001b[KpyPG/PLogitWrapper.cpp:72:11:\u001b[m\u001b[K \u001b[01;35m\u001b[Kwarning: \u001b[m\u001b[Kunused variable ‘\u001b[01m\u001b[Kdx\u001b[m\u001b[K’ [\u001b[01;35m\u001b[K-Wunused-variable\u001b[m\u001b[K]\n",
            "   double *\u001b[01;35m\u001b[Kdx\u001b[m\u001b[K    = (double*)x->data;\n",
            "           \u001b[01;35m\u001b[K^~\u001b[m\u001b[K\n",
            "\u001b[01m\u001b[KpyPG/PLogitWrapper.cpp:73:11:\u001b[m\u001b[K \u001b[01;35m\u001b[Kwarning: \u001b[m\u001b[Kunused variable ‘\u001b[01m\u001b[Kdh\u001b[m\u001b[K’ [\u001b[01;35m\u001b[K-Wunused-variable\u001b[m\u001b[K]\n",
            "   int    *\u001b[01;35m\u001b[Kdh\u001b[m\u001b[K    = (int*)h->data;\n",
            "           \u001b[01;35m\u001b[K^~\u001b[m\u001b[K\n",
            "\u001b[01m\u001b[KpyPG/PLogitWrapper.cpp:74:11:\u001b[m\u001b[K \u001b[01;35m\u001b[Kwarning: \u001b[m\u001b[Kunused variable ‘\u001b[01m\u001b[Kdz\u001b[m\u001b[K’ [\u001b[01;35m\u001b[K-Wunused-variable\u001b[m\u001b[K]\n",
            "   double *\u001b[01;35m\u001b[Kdz\u001b[m\u001b[K    = (double*)z->data;\n",
            "           \u001b[01;35m\u001b[K^~\u001b[m\u001b[K\n",
            "\u001b[01m\u001b[KpyPG/PLogitWrapper.cpp:\u001b[m\u001b[K In function ‘\u001b[01m\u001b[KPyObject* PyInit_pyPG_cpp_module()\u001b[m\u001b[K’:\n",
            "\u001b[01m\u001b[KpyPG/PLogitWrapper.cpp:89:7:\u001b[m\u001b[K \u001b[01;35m\u001b[Kwarning: \u001b[m\u001b[Kunused variable ‘\u001b[01m\u001b[Ki\u001b[m\u001b[K’ [\u001b[01;35m\u001b[K-Wunused-variable\u001b[m\u001b[K]\n",
            "   int \u001b[01;35m\u001b[Ki\u001b[m\u001b[K;\n",
            "       \u001b[01;35m\u001b[K^\u001b[m\u001b[K\n",
            "\u001b[01m\u001b[KpyPG/PLogitWrapper.cpp:\u001b[m\u001b[K At global scope:\n",
            "\u001b[01m\u001b[KpyPG/PLogitWrapper.cpp:65:18:\u001b[m\u001b[K \u001b[01;35m\u001b[Kwarning: \u001b[m\u001b[K‘\u001b[01m\u001b[KPyObject* rpg_gamma(PyObject*, PyObject*)\u001b[m\u001b[K’ defined but not used [\u001b[01;35m\u001b[K-Wunused-function\u001b[m\u001b[K]\n",
            " static PyObject *\u001b[01;35m\u001b[Krpg_gamma\u001b[m\u001b[K(PyObject *self, PyObject *args)\n",
            "                  \u001b[01;35m\u001b[K^~~~~~~~~\u001b[m\u001b[K\n",
            "In file included from \u001b[01m\u001b[K/usr/local/lib/python3.6/dist-packages/numpy/core/include/numpy/ndarrayobject.h:21:0\u001b[m\u001b[K,\n",
            "                 from \u001b[01m\u001b[K/usr/local/lib/python3.6/dist-packages/numpy/core/include/numpy/arrayobject.h:4\u001b[m\u001b[K,\n",
            "                 from \u001b[01m\u001b[KpyPG/PLogitWrapper.cpp:22\u001b[m\u001b[K:\n",
            "\u001b[01m\u001b[K/usr/local/lib/python3.6/dist-packages/numpy/core/include/numpy/__multiarray_api.h:1463:1:\u001b[m\u001b[K \u001b[01;35m\u001b[Kwarning: \u001b[m\u001b[K‘\u001b[01m\u001b[Kint _import_array()\u001b[m\u001b[K’ defined but not used [\u001b[01;35m\u001b[K-Wunused-function\u001b[m\u001b[K]\n",
            " \u001b[01;35m\u001b[K_import_array\u001b[m\u001b[K(void)\n",
            " \u001b[01;35m\u001b[K^~~~~~~~~~~~~\u001b[m\u001b[K\n",
            "g++ -DNDEBUG -g -fwrapv -O2 -Wall -g -fstack-protector-strong -Wformat -Werror=format-security -Wdate-time -D_FORTIFY_SOURCE=2 -fPIC -I/usr/include/python3.6m -I/usr/local/lib/python3.6/dist-packages/numpy/core/include -IpyPG/include/RNG -I/usr/local/include -I/usr/include/python3.6m -c pyPG/PolyaGamma.cpp -o build/temp.linux-x86_64-3.6/pyPG/PolyaGamma.o -fPIC -shared -DNTHROW\n",
            "g++ -DNDEBUG -g -fwrapv -O2 -Wall -g -fstack-protector-strong -Wformat -Werror=format-security -Wdate-time -D_FORTIFY_SOURCE=2 -fPIC -I/usr/include/python3.6m -I/usr/local/lib/python3.6/dist-packages/numpy/core/include -IpyPG/include/RNG -I/usr/local/include -I/usr/include/python3.6m -c pyPG/PolyaGammaAlt.cpp -o build/temp.linux-x86_64-3.6/pyPG/PolyaGammaAlt.o -fPIC -shared -DNTHROW\n",
            "g++ -DNDEBUG -g -fwrapv -O2 -Wall -g -fstack-protector-strong -Wformat -Werror=format-security -Wdate-time -D_FORTIFY_SOURCE=2 -fPIC -I/usr/include/python3.6m -I/usr/local/lib/python3.6/dist-packages/numpy/core/include -IpyPG/include/RNG -I/usr/local/include -I/usr/include/python3.6m -c pyPG/PolyaGammaSP.cpp -o build/temp.linux-x86_64-3.6/pyPG/PolyaGammaSP.o -fPIC -shared -DNTHROW\n",
            "g++ -DNDEBUG -g -fwrapv -O2 -Wall -g -fstack-protector-strong -Wformat -Werror=format-security -Wdate-time -D_FORTIFY_SOURCE=2 -fPIC -I/usr/include/python3.6m -I/usr/local/lib/python3.6/dist-packages/numpy/core/include -IpyPG/include/RNG -I/usr/local/include -I/usr/include/python3.6m -c pyPG/LogitWrapper.cpp -o build/temp.linux-x86_64-3.6/pyPG/LogitWrapper.o -fPIC -shared -DNTHROW\n",
            "g++ -DNDEBUG -g -fwrapv -O2 -Wall -g -fstack-protector-strong -Wformat -Werror=format-security -Wdate-time -D_FORTIFY_SOURCE=2 -fPIC -I/usr/include/python3.6m -I/usr/local/lib/python3.6/dist-packages/numpy/core/include -IpyPG/include/RNG -I/usr/local/include -I/usr/include/python3.6m -c pyPG/FSF_nmix.cpp -o build/temp.linux-x86_64-3.6/pyPG/FSF_nmix.o -fPIC -shared -DNTHROW\n",
            "g++ -DNDEBUG -g -fwrapv -O2 -Wall -g -fstack-protector-strong -Wformat -Werror=format-security -Wdate-time -D_FORTIFY_SOURCE=2 -fPIC -I/usr/include/python3.6m -I/usr/local/lib/python3.6/dist-packages/numpy/core/include -IpyPG/include/RNG -I/usr/local/include -I/usr/include/python3.6m -c pyPG/InvertY.cpp -o build/temp.linux-x86_64-3.6/pyPG/InvertY.o -fPIC -shared -DNTHROW\n",
            "g++ -DNDEBUG -g -fwrapv -O2 -Wall -g -fstack-protector-strong -Wformat -Werror=format-security -Wdate-time -D_FORTIFY_SOURCE=2 -fPIC -I/usr/include/python3.6m -I/usr/local/lib/python3.6/dist-packages/numpy/core/include -IpyPG/include/RNG -I/usr/local/include -I/usr/include/python3.6m -c pyPG/InvertY2.cpp -o build/temp.linux-x86_64-3.6/pyPG/InvertY2.o -fPIC -shared -DNTHROW\n",
            "g++ -DNDEBUG -g -fwrapv -O2 -Wall -g -fstack-protector-strong -Wformat -Werror=format-security -Wdate-time -D_FORTIFY_SOURCE=2 -fPIC -I/usr/include/python3.6m -I/usr/local/lib/python3.6/dist-packages/numpy/core/include -IpyPG/include/RNG -I/usr/local/include -I/usr/include/python3.6m -c pyPG/HHWrapper.cpp -o build/temp.linux-x86_64-3.6/pyPG/HHWrapper.o -fPIC -shared -DNTHROW\n",
            "g++ -DNDEBUG -g -fwrapv -O2 -Wall -g -fstack-protector-strong -Wformat -Werror=format-security -Wdate-time -D_FORTIFY_SOURCE=2 -fPIC -I/usr/include/python3.6m -I/usr/local/lib/python3.6/dist-packages/numpy/core/include -IpyPG/include/RNG -I/usr/local/include -I/usr/include/python3.6m -c pyPG/include/RNG/GRNG.cpp -o build/temp.linux-x86_64-3.6/pyPG/include/RNG/GRNG.o -fPIC -shared -DNTHROW\n",
            "g++ -DNDEBUG -g -fwrapv -O2 -Wall -g -fstack-protector-strong -Wformat -Werror=format-security -Wdate-time -D_FORTIFY_SOURCE=2 -fPIC -I/usr/include/python3.6m -I/usr/local/lib/python3.6/dist-packages/numpy/core/include -IpyPG/include/RNG -I/usr/local/include -I/usr/include/python3.6m -c pyPG/include/RNG/RNG.cpp -o build/temp.linux-x86_64-3.6/pyPG/include/RNG/RNG.o -fPIC -shared -DNTHROW\n",
            "g++ -pthread -shared -Wl,-O1 -Wl,-Bsymbolic-functions -Wl,-Bsymbolic-functions -Wl,-z,relro -Wl,-Bsymbolic-functions -Wl,-z,relro -g -fstack-protector-strong -Wformat -Werror=format-security -Wdate-time -D_FORTIFY_SOURCE=2 build/temp.linux-x86_64-3.6/pyPG/PLogitWrapper.o build/temp.linux-x86_64-3.6/pyPG/PolyaGamma.o build/temp.linux-x86_64-3.6/pyPG/PolyaGammaAlt.o build/temp.linux-x86_64-3.6/pyPG/PolyaGammaSP.o build/temp.linux-x86_64-3.6/pyPG/LogitWrapper.o build/temp.linux-x86_64-3.6/pyPG/FSF_nmix.o build/temp.linux-x86_64-3.6/pyPG/InvertY.o build/temp.linux-x86_64-3.6/pyPG/InvertY2.o build/temp.linux-x86_64-3.6/pyPG/HHWrapper.o build/temp.linux-x86_64-3.6/pyPG/include/RNG/GRNG.o build/temp.linux-x86_64-3.6/pyPG/include/RNG/RNG.o -L/usr/local/lib -lgsl -o /content/pyPG/pyPG/pyPG_cpp_module.cpython-36m-x86_64-linux-gnu.so -lgsl -lgslcblas\n",
            "Cloning into 'ka_tools'...\n",
            "remote: Enumerating objects: 7, done.\u001b[K\n",
            "remote: Counting objects: 100% (7/7), done.\u001b[K\n",
            "remote: Compressing objects: 100% (5/5), done.\u001b[K\n",
            "remote: Total 7 (delta 1), reused 7 (delta 1), pack-reused 0\u001b[K\n",
            "Unpacking objects: 100% (7/7), done.\n"
          ],
          "name": "stdout"
        }
      ]
    },
    {
      "cell_type": "code",
      "metadata": {
        "id": "hMT1FQbtraW7",
        "colab": {
          "base_uri": "https://localhost:8080/"
        },
        "outputId": "4946220f-57ee-4256-9e23-0d84397a0537"
      },
      "source": [
        "if True:#importlib.util.find_spec(\"LOST\") is None:\n",
        "  %cd /content\n",
        "  !git clone https://github.com/AraiKensuke/LOST.git\n",
        "  %cd /content/LOST\n",
        "\n",
        "!python setup.py build_ext --inplace\n",
        "\n",
        "sys.path.insert(1, \"/content/LOST\")    #  add these to searchpath for python modules\n",
        "sys.path.insert(1, \"/content/pyPG\")    #  add these to searchpath for python modules\n",
        "%cd ..\n",
        "\n",
        "\n",
        "#from google.colab import files\n",
        "#uploaded = files.upload()"
      ],
      "execution_count": 2,
      "outputs": [
        {
          "output_type": "stream",
          "text": [
            "/content\n",
            "Cloning into 'LOST'...\n",
            "remote: Enumerating objects: 320, done.\u001b[K\n",
            "remote: Counting objects: 100% (320/320), done.\u001b[K\n",
            "remote: Compressing objects: 100% (247/247), done.\u001b[K\n",
            "remote: Total 461 (delta 144), reused 215 (delta 69), pack-reused 141\u001b[K\n",
            "Receiving objects: 100% (461/461), 25.91 MiB | 29.12 MiB/s, done.\n",
            "Resolving deltas: 100% (215/215), done.\n",
            "/content/LOST\n",
            "running build_ext\n",
            "cythoning kfARlibMPmv_ram2.pyx to kfARlibMPmv_ram2.c\n",
            "/usr/local/lib/python3.6/dist-packages/Cython/Compiler/Main.py:369: FutureWarning: Cython directive 'language_level' not set, using 2 for now (Py2). This will change in a later release! File: /content/LOST/kfARlibMPmv_ram2.pyx\n",
            "  tree = Parsing.p_module(s, pxd, full_module_name)\n",
            "building 'kfARlibMPmv_ram2' extension\n",
            "creating build\n",
            "creating build/temp.linux-x86_64-3.6\n",
            "/usr/bin/gcc -DNDEBUG -g -fwrapv -O2 -Wall -g -fstack-protector-strong -Wformat -Werror=format-security -Wdate-time -D_FORTIFY_SOURCE=2 -fPIC -I/usr/include/python3.6m -I/usr/local/lib/python3.6/dist-packages/numpy/core/include -IpyPG/include/RNG -I/usr/include/python3.6m -c kfARlibMPmv_ram2.c -o build/temp.linux-x86_64-3.6/kfARlibMPmv_ram2.o -fopenmp -DUSE_OPEN_MP\n",
            "In file included from \u001b[01m\u001b[K/usr/local/lib/python3.6/dist-packages/numpy/core/include/numpy/ndarraytypes.h:1822:0\u001b[m\u001b[K,\n",
            "                 from \u001b[01m\u001b[K/usr/local/lib/python3.6/dist-packages/numpy/core/include/numpy/ndarrayobject.h:12\u001b[m\u001b[K,\n",
            "                 from \u001b[01m\u001b[K/usr/local/lib/python3.6/dist-packages/numpy/core/include/numpy/arrayobject.h:4\u001b[m\u001b[K,\n",
            "                 from \u001b[01m\u001b[KkfARlibMPmv_ram2.c:610\u001b[m\u001b[K:\n",
            "\u001b[01m\u001b[K/usr/local/lib/python3.6/dist-packages/numpy/core/include/numpy/npy_1_7_deprecated_api.h:17:2:\u001b[m\u001b[K \u001b[01;35m\u001b[Kwarning: \u001b[m\u001b[K#warning \"Using deprecated NumPy API, disable it with \" \"#define NPY_NO_DEPRECATED_API NPY_1_7_API_VERSION\" [\u001b[01;35m\u001b[K-Wcpp\u001b[m\u001b[K]\n",
            " #\u001b[01;35m\u001b[Kwarning\u001b[m\u001b[K \"Using deprecated NumPy API, disable it with \" \\\n",
            "  \u001b[01;35m\u001b[K^~~~~~~\u001b[m\u001b[K\n",
            "x86_64-linux-gnu-gcc -pthread -shared -Wl,-O1 -Wl,-Bsymbolic-functions -Wl,-Bsymbolic-functions -Wl,-z,relro -Wl,-Bsymbolic-functions -Wl,-z,relro -g -fstack-protector-strong -Wformat -Werror=format-security -Wdate-time -D_FORTIFY_SOURCE=2 build/temp.linux-x86_64-3.6/kfARlibMPmv_ram2.o -L/usr/local/lib -o /content/LOST/kfARlibMPmv_ram2.cpython-36m-x86_64-linux-gnu.so\n",
            "running build_ext\n",
            "cythoning kfARlib1c.pyx to kfARlib1c.c\n",
            "/usr/local/lib/python3.6/dist-packages/Cython/Compiler/Main.py:369: FutureWarning: Cython directive 'language_level' not set, using 2 for now (Py2). This will change in a later release! File: /content/LOST/kfARlib1c.pyx\n",
            "  tree = Parsing.p_module(s, pxd, full_module_name)\n",
            "building 'kfARlib1c' extension\n",
            "/usr/bin/gcc -DNDEBUG -g -fwrapv -O2 -Wall -g -fstack-protector-strong -Wformat -Werror=format-security -Wdate-time -D_FORTIFY_SOURCE=2 -fPIC -I/usr/include/python3.6m -I/usr/local/lib/python3.6/dist-packages/numpy/core/include -IpyPG/include/RNG -I/usr/include/python3.6m -c kfARlib1c.c -o build/temp.linux-x86_64-3.6/kfARlib1c.o -fopenmp -DUSE_OPEN_MP\n",
            "x86_64-linux-gnu-gcc -pthread -shared -Wl,-O1 -Wl,-Bsymbolic-functions -Wl,-Bsymbolic-functions -Wl,-z,relro -Wl,-Bsymbolic-functions -Wl,-z,relro -g -fstack-protector-strong -Wformat -Werror=format-security -Wdate-time -D_FORTIFY_SOURCE=2 build/temp.linux-x86_64-3.6/kfARlib1c.o -L/usr/local/lib -o /content/LOST/kfARlib1c.cpython-36m-x86_64-linux-gnu.so\n",
            "running build_ext\n",
            "cythoning kdist.pyx to kdist.c\n",
            "/usr/local/lib/python3.6/dist-packages/Cython/Compiler/Main.py:369: FutureWarning: Cython directive 'language_level' not set, using 2 for now (Py2). This will change in a later release! File: /content/LOST/kdist.pyx\n",
            "  tree = Parsing.p_module(s, pxd, full_module_name)\n",
            "building 'kdist' extension\n",
            "/usr/bin/gcc -DNDEBUG -g -fwrapv -O2 -Wall -g -fstack-protector-strong -Wformat -Werror=format-security -Wdate-time -D_FORTIFY_SOURCE=2 -fPIC -I/usr/include/python3.6m -I/usr/local/lib/python3.6/dist-packages/numpy/core/include -IpyPG/include/RNG -I/usr/include/python3.6m -c kdist.c -o build/temp.linux-x86_64-3.6/kdist.o -fopenmp -DUSE_OPEN_MP\n",
            "\u001b[01m\u001b[Kkdist.c:\u001b[m\u001b[K In function ‘\u001b[01m\u001b[K__pyx_pw_5kdist_3truncnormC\u001b[m\u001b[K’:\n",
            "\u001b[01m\u001b[Kkdist.c:2785:60:\u001b[m\u001b[K \u001b[01;35m\u001b[Kwarning: \u001b[m\u001b[K‘\u001b[01m\u001b[K__pyx_v_smps\u001b[m\u001b[K’ may be used uninitialized in this function [\u001b[01;35m\u001b[K-Wmaybe-uninitialized\u001b[m\u001b[K]\n",
            "   __pyx_t_6 = PyFloat_FromDouble((__pyx_v_u + \u001b[01;35m\u001b[K(__pyx_v_std * __pyx_v_smps)\u001b[m\u001b[K)); if (unlikely(!__pyx_t_6)) __PYX_ERR(0, 108, __pyx_L1_error)\n",
            "                                               \u001b[01;35m\u001b[K~~~~~~~~~~~~~^~~~~~~~~~~~~~~\u001b[m\u001b[K\n",
            "\u001b[01m\u001b[Kkdist.c:2210:10:\u001b[m\u001b[K \u001b[01;36m\u001b[Knote: \u001b[m\u001b[K‘\u001b[01m\u001b[K__pyx_v_smps\u001b[m\u001b[K’ was declared here\n",
            "   double \u001b[01;36m\u001b[K__pyx_v_smps\u001b[m\u001b[K;\n",
            "          \u001b[01;36m\u001b[K^~~~~~~~~~~~\u001b[m\u001b[K\n",
            "x86_64-linux-gnu-gcc -pthread -shared -Wl,-O1 -Wl,-Bsymbolic-functions -Wl,-Bsymbolic-functions -Wl,-z,relro -Wl,-Bsymbolic-functions -Wl,-z,relro -g -fstack-protector-strong -Wformat -Werror=format-security -Wdate-time -D_FORTIFY_SOURCE=2 build/temp.linux-x86_64-3.6/kdist.o -L/usr/local/lib -o /content/LOST/kdist.cpython-36m-x86_64-linux-gnu.so\n",
            "running build_ext\n",
            "cythoning ARcfSmplNoMCMC_ram.pyx to ARcfSmplNoMCMC_ram.c\n",
            "/usr/local/lib/python3.6/dist-packages/Cython/Compiler/Main.py:369: FutureWarning: Cython directive 'language_level' not set, using 2 for now (Py2). This will change in a later release! File: /content/LOST/ARcfSmplNoMCMC_ram.pyx\n",
            "  tree = Parsing.p_module(s, pxd, full_module_name)\n",
            "building 'ARcfSmplNoMCMC_ram' extension\n",
            "/usr/bin/gcc -DNDEBUG -g -fwrapv -O2 -Wall -g -fstack-protector-strong -Wformat -Werror=format-security -Wdate-time -D_FORTIFY_SOURCE=2 -fPIC -I/usr/include/python3.6m -I/usr/local/lib/python3.6/dist-packages/numpy/core/include -IpyPG/include/RNG -I/usr/include/python3.6m -c ARcfSmplNoMCMC_ram.c -o build/temp.linux-x86_64-3.6/ARcfSmplNoMCMC_ram.o -fopenmp -DUSE_OPEN_MP\n",
            "x86_64-linux-gnu-gcc -pthread -shared -Wl,-O1 -Wl,-Bsymbolic-functions -Wl,-Bsymbolic-functions -Wl,-z,relro -Wl,-Bsymbolic-functions -Wl,-z,relro -g -fstack-protector-strong -Wformat -Werror=format-security -Wdate-time -D_FORTIFY_SOURCE=2 build/temp.linux-x86_64-3.6/ARcfSmplNoMCMC_ram.o -L/usr/local/lib -o /content/LOST/ARcfSmplNoMCMC_ram.cpython-36m-x86_64-linux-gnu.so\n",
            "/content\n"
          ],
          "name": "stdout"
        }
      ]
    },
    {
      "cell_type": "code",
      "metadata": {
        "id": "FzA4rk9MilGD"
      },
      "source": [
        "import pickle\n",
        "import LOST.kflib as _kfl"
      ],
      "execution_count": 3,
      "outputs": []
    },
    {
      "cell_type": "code",
      "metadata": {
        "id": "XDtpoCJTHlGu",
        "outputId": "f96bab02-9ead-49fe-e0f3-a2cf5c518d74",
        "colab": {
          "base_uri": "https://localhost:8080/",
          "height": 295
        }
      },
      "source": [
        "fig = _plt.figure(figsize=(15, 4))\n",
        "ifig = 1\n",
        "for hist_shape in range(2, 10, 2):\n",
        "  with open(\"LOST/Notebooks/DATA/exmp%d1/generative.pkl\" % hist_shape, \"rb\") as f:\n",
        "    lm = pickle.load(f)\n",
        "    isis = _kfl.ISIs(lm[\"spkdat\"].T)\n",
        "    fig.add_subplot(2, 4, ifig)\n",
        "    _plt.title(\"hist shape #%d\" % hist_shape)\n",
        "    _plt.plot(lm[\"lambda2\"], color=\"black\")\n",
        "    if hist_shape == 1:\n",
        "      _plt.ylabel(\"post-spk hist\")\n",
        "    _plt.xlim(0, 50)\n",
        "    _plt.xlabel('$t - t_{last}$')\n",
        "    fig.add_subplot(2, 4, ifig+4)\n",
        "    _plt.hist(isis, bins=_N.linspace(0, 50, 51), density=True, color=\"black\")\n",
        "    _plt.xlim(0, 50)\n",
        "    if hist_shape == 1:\n",
        "      _plt.ylabel(\"ISI density\")\n",
        "    ifig += 1\n",
        "    _plt.xlabel(\"ISI (ms)\")\n",
        "    fig.subplots_adjust(hspace=0.4)"
      ],
      "execution_count": 64,
      "outputs": [
        {
          "output_type": "display_data",
          "data": {
            "image/png": "[encoded data removed]",
            "text/plain": [
              "<Figure size 1080x288 with 8 Axes>"
            ]
          },
          "metadata": {
            "tags": [],
            "needs_background": "light"
          }
        }
      ]
    },
    {
      "cell_type": "code",
      "metadata": {
        "id": "iCz7CK4BH3Fr",
        "outputId": "be912753-52e5-4cdb-f8f0-d117badb2fca",
        "colab": {
          "base_uri": "https://localhost:8080/"
        }
      },
      "source": [
        "elm[\"spkdat\"].shape"
      ],
      "execution_count": 19,
      "outputs": [
        {
          "output_type": "execute_result",
          "data": {
            "text/plain": [
              "(2000, 40)"
            ]
          },
          "metadata": {
            "tags": []
          },
          "execution_count": 19
        }
      ]
    },
    {
      "cell_type": "code",
      "metadata": {
        "id": "QVTlARRBH5Dj",
        "outputId": "5fd9353b-cd2b-4c0d-a0d0-d00ffe834bfa",
        "colab": {
          "base_uri": "https://localhost:8080/",
          "height": 803
        }
      },
      "source": [
        "_plt.acorr(lm[\"spkdat\"][:, 2], maxlags=50)"
      ],
      "execution_count": 25,
      "outputs": [
        {
          "output_type": "execute_result",
          "data": {
            "text/plain": [
              "(array([-50, -49, -48, -47, -46, -45, -44, -43, -42, -41, -40, -39, -38,\n",
              "        -37, -36, -35, -34, -33, -32, -31, -30, -29, -28, -27, -26, -25,\n",
              "        -24, -23, -22, -21, -20, -19, -18, -17, -16, -15, -14, -13, -12,\n",
              "        -11, -10,  -9,  -8,  -7,  -6,  -5,  -4,  -3,  -2,  -1,   0,   1,\n",
              "          2,   3,   4,   5,   6,   7,   8,   9,  10,  11,  12,  13,  14,\n",
              "         15,  16,  17,  18,  19,  20,  21,  22,  23,  24,  25,  26,  27,\n",
              "         28,  29,  30,  31,  32,  33,  34,  35,  36,  37,  38,  39,  40,\n",
              "         41,  42,  43,  44,  45,  46,  47,  48,  49,  50]),\n",
              " array([0.01886792, 0.03773585, 0.01886792, 0.01886792, 0.        ,\n",
              "        0.01886792, 0.05660377, 0.03773585, 0.01886792, 0.        ,\n",
              "        0.        , 0.01886792, 0.01886792, 0.0754717 , 0.05660377,\n",
              "        0.03773585, 0.03773585, 0.        , 0.01886792, 0.03773585,\n",
              "        0.03773585, 0.01886792, 0.        , 0.01886792, 0.01886792,\n",
              "        0.05660377, 0.03773585, 0.03773585, 0.0754717 , 0.        ,\n",
              "        0.03773585, 0.03773585, 0.        , 0.        , 0.        ,\n",
              "        0.        , 0.        , 0.        , 0.        , 0.        ,\n",
              "        0.        , 0.        , 0.        , 0.        , 0.        ,\n",
              "        0.        , 0.        , 0.        , 0.        , 0.        ,\n",
              "        1.        , 0.        , 0.        , 0.        , 0.        ,\n",
              "        0.        , 0.        , 0.        , 0.        , 0.        ,\n",
              "        0.        , 0.        , 0.        , 0.        , 0.        ,\n",
              "        0.        , 0.        , 0.        , 0.        , 0.03773585,\n",
              "        0.03773585, 0.        , 0.0754717 , 0.03773585, 0.03773585,\n",
              "        0.05660377, 0.01886792, 0.01886792, 0.        , 0.01886792,\n",
              "        0.03773585, 0.03773585, 0.01886792, 0.        , 0.03773585,\n",
              "        0.03773585, 0.05660377, 0.0754717 , 0.01886792, 0.01886792,\n",
              "        0.        , 0.        , 0.01886792, 0.03773585, 0.05660377,\n",
              "        0.01886792, 0.        , 0.01886792, 0.01886792, 0.03773585,\n",
              "        0.01886792]),\n",
              " <matplotlib.collections.LineCollection at 0x7f60ec4d3828>,\n",
              " <matplotlib.lines.Line2D at 0x7f60ec4ec128>)"
            ]
          },
          "metadata": {
            "tags": []
          },
          "execution_count": 25
        },
        {
          "output_type": "display_data",
          "data": {
            "image/png": "[encoded data removed]",
            "text/plain": [
              "<Figure size 432x288 with 1 Axes>"
            ]
          },
          "metadata": {
            "tags": [],
            "needs_background": "light"
          }
        }
      ]
    },
    {
      "cell_type": "code",
      "metadata": {
        "id": "r282w5LGH6Eg",
        "outputId": "69e9117c-6355-457f-f4f1-9bb4d0dbcc9c",
        "colab": {
          "base_uri": "https://localhost:8080/",
          "height": 282
        }
      },
      "source": [
        "_plt.plot(lm[\"lambda2\"])\n",
        "_plt.xlim(0, 50)"
      ],
      "execution_count": 34,
      "outputs": [
        {
          "output_type": "execute_result",
          "data": {
            "text/plain": [
              "(0.0, 50.0)"
            ]
          },
          "metadata": {
            "tags": []
          },
          "execution_count": 34
        },
        {
          "output_type": "display_data",
          "data": {
            "image/png": "[encoded data removed]",
            "text/plain": [
              "<Figure size 432x288 with 1 Axes>"
            ]
          },
          "metadata": {
            "tags": [],
            "needs_background": "light"
          }
        }
      ]
    },
    {
      "cell_type": "code",
      "metadata": {
        "id": "cVZsfUQLKLKJ"
      },
      "source": [
        "import LOST.kflib as _kfl\n",
        "import numpy as _N"
      ],
      "execution_count": 30,
      "outputs": []
    },
    {
      "cell_type": "code",
      "metadata": {
        "id": "EPwXunHEO8fC"
      },
      "source": [
        "isis = _kfl.ISIs(lm[\"spkdat\"].T)"
      ],
      "execution_count": 35,
      "outputs": []
    },
    {
      "cell_type": "code",
      "metadata": {
        "id": "3XLtNK_jPAQs",
        "outputId": "a57927e8-2e2d-483a-c3da-e21f4e626fbd",
        "colab": {
          "base_uri": "https://localhost:8080/",
          "height": 421
        }
      },
      "source": [
        "_plt.hist(isis, bins=_N.linspace(0, 50, 51))"
      ],
      "execution_count": 36,
      "outputs": [
        {
          "output_type": "execute_result",
          "data": {
            "text/plain": [
              "(array([ 0.,  0.,  0.,  0.,  0.,  0.,  0.,  1.,  0.,  0.,  0.,  0.,  7.,\n",
              "         7.,  8.,  9., 13., 23., 41., 54., 46., 35., 68., 81., 72., 72.,\n",
              "        65., 53., 85., 65., 58., 50., 43., 42., 45., 56., 52., 39., 47.,\n",
              "        32., 38., 32., 32., 36., 26., 30., 31., 25., 21., 38.]),\n",
              " array([ 0.,  1.,  2.,  3.,  4.,  5.,  6.,  7.,  8.,  9., 10., 11., 12.,\n",
              "        13., 14., 15., 16., 17., 18., 19., 20., 21., 22., 23., 24., 25.,\n",
              "        26., 27., 28., 29., 30., 31., 32., 33., 34., 35., 36., 37., 38.,\n",
              "        39., 40., 41., 42., 43., 44., 45., 46., 47., 48., 49., 50.]),\n",
              " <a list of 50 Patch objects>)"
            ]
          },
          "metadata": {
            "tags": []
          },
          "execution_count": 36
        },
        {
          "output_type": "display_data",
          "data": {
            "image/png": "[encoded data removed]",
            "text/plain": [
              "<Figure size 432x288 with 1 Axes>"
            ]
          },
          "metadata": {
            "tags": [],
            "needs_background": "light"
          }
        }
      ]
    },
    {
      "cell_type": "code",
      "metadata": {
        "id": "VqzHYcTvPFvR",
        "outputId": "2c41cb8a-bc4a-454e-80e7-32bf1716be10",
        "colab": {
          "base_uri": "https://localhost:8080/"
        }
      },
      "source": [
        "isis"
      ],
      "execution_count": 32,
      "outputs": [
        {
          "output_type": "execute_result",
          "data": {
            "text/plain": [
              "array([ 5, 11, 10, 13,  6, 20,  2,  7, 17, 36,  2, 14, 23,  6, 14, 24,  3,\n",
              "        5,  6,  7,  2,  2,  5,  2, 33,  8, 11,  1, 13, 10, 10, 13, 27,  5,\n",
              "        8,  1, 15,  2, 16,  4,  3, 21, 19,  3, 11,  5,  3,  1, 10, 13, 22,\n",
              "        4,  9,  8, 32, 11, 10, 18, 10, 18, 12,  1, 16,  5, 14, 15,  6,  3,\n",
              "       14, 19, 12, 12,  6, 16, 10, 18,  6, 16, 25, 13, 20,  1,  7, 14, 22,\n",
              "       14, 14,  5, 34,  4, 13, 23, 11, 10,  6, 14, 20, 13, 20,  5,  5,  7,\n",
              "        3, 12,  3, 34, 10,  3,  3,  2,  6,  2, 26, 14, 12, 28, 10, 20,  4,\n",
              "        6, 25, 19,  9, 13,  5, 30, 20, 11, 12,  5,  3,  7, 25, 29,  6,  1,\n",
              "       23,  3, 30, 16,  7,  2,  3,  3, 23,  9,  7, 20,  8,  6, 21,  3,  5,\n",
              "       14, 11, 13, 29,  1,  2,  3, 20,  3, 11,  6,  6, 27, 23,  7, 27,  6,\n",
              "       12, 10, 27, 12,  3, 12,  9,  7, 19,  2, 21, 16, 24,  7,  2,  2, 13,\n",
              "        8, 13,  5,  6, 33,  4, 10, 13, 18,  6, 25, 12, 13,  1, 22, 18,  7,\n",
              "        5,  1, 25, 21,  9,  9, 16,  6,  1, 14, 15,  4, 14, 10,  6,  4, 31,\n",
              "       11, 14, 13, 11,  3, 22,  4,  2, 15, 19, 24, 21,  3, 13,  1, 14, 29,\n",
              "        4,  6,  2, 17,  9, 31,  1,  1,  5, 14,  3, 24,  2, 17,  6,  4,  1,\n",
              "        2, 11,  7,  4,  7,  7, 17, 17,  4, 18, 19,  8, 14,  7, 10, 27, 17,\n",
              "       23, 21, 14,  1,  8,  1, 16, 17,  1,  5, 21,  8,  3,  7, 10, 12, 20,\n",
              "       22, 12,  1, 17,  2,  5, 31,  2, 12, 10,  2,  9, 22, 18, 25,  8,  1,\n",
              "        2, 37,  1,  7, 15, 12, 12, 21,  3,  1, 20,  9, 16, 29, 18, 11, 12,\n",
              "        5, 22,  8,  5, 27, 37, 15,  2,  3, 22,  8, 20, 12, 11, 14,  7,  3,\n",
              "        4, 19,  6, 17, 20, 15, 23, 31, 15,  5, 24, 15, 18, 16, 12, 10, 10,\n",
              "        2, 17,  5,  4,  2,  6,  8, 30, 20, 32,  3,  2,  9,  8,  7, 13, 24,\n",
              "        5, 12, 12,  1, 23,  5, 11,  5, 33, 18, 14, 17,  2,  6,  2, 29, 11,\n",
              "        5,  9, 37, 10, 25,  3, 16, 20, 10,  9,  2, 17, 10, 19, 24,  8, 33,\n",
              "       15,  7, 24,  2,  6, 15,  8, 10, 26, 18, 24,  2,  4, 14, 25, 25, 24,\n",
              "        6, 16,  8,  3, 13, 10, 24,  4,  5, 10, 15, 15, 12, 13, 26,  9,  7,\n",
              "       19, 18, 23,  8, 20, 11,  8,  5,  3,  4, 28, 10, 10, 10,  6, 10,  9,\n",
              "        3, 10,  8,  1, 13, 14,  3, 21, 11, 26,  7,  8,  1,  8, 11, 10,  5,\n",
              "       29,  7, 11,  9,  5, 20, 21, 14, 13,  2, 19, 12,  2,  8,  1, 30, 14,\n",
              "        3,  8, 20, 34, 15,  3,  6,  4,  3, 35,  6,  3,  8, 11,  4, 18, 17,\n",
              "        5,  1,  2,  4,  7,  1,  7, 14,  9, 13, 30,  2,  7, 18,  1, 36, 11,\n",
              "        5,  8, 12,  4,  6, 18, 14, 17, 26,  5, 26, 18,  2,  5, 10, 16, 25,\n",
              "        1, 13,  7, 16, 13, 11, 21,  8,  3, 16,  1,  2, 14, 19,  5,  1, 14,\n",
              "        8, 17,  7, 27, 10,  1,  8,  6, 17,  9,  3, 21, 15, 13,  5,  1, 11,\n",
              "        9, 23, 30,  6, 25,  2, 22,  5,  4, 21, 12, 27, 36,  8,  9, 16, 13,\n",
              "        7, 26,  2,  9, 18, 13,  5, 14,  7, 17, 25,  5, 11,  6,  1,  2, 18,\n",
              "       29,  9,  7, 26,  5, 11,  5, 10,  9, 11,  1, 10,  6,  3, 28, 30, 19,\n",
              "        9, 11,  7,  3,  1, 37, 10,  8,  2, 14,  6,  6, 37, 14, 11, 10,  1,\n",
              "        6, 27,  2,  8, 13,  2,  4, 19,  3, 26,  3, 23,  7,  9,  9,  1,  8,\n",
              "       10, 22, 15,  6,  8,  6,  7, 10, 14,  2,  8,  5,  4, 19, 11,  8,  2,\n",
              "        1,  4, 32, 13, 22, 12, 14, 10, 20, 15,  8,  5,  1,  2, 10,  2, 10,\n",
              "       19, 21,  2, 22, 10, 12,  4,  6, 19, 18,  5, 19,  4, 21,  1,  1, 28,\n",
              "        9, 10, 37, 22,  2,  5, 27, 16,  1,  7, 16,  1,  7,  8,  7, 12, 27,\n",
              "       23,  9,  3,  2, 12, 10, 23,  7, 21, 14, 12,  1,  8])"
            ]
          },
          "metadata": {
            "tags": []
          },
          "execution_count": 32
        }
      ]
    },
    {
      "cell_type": "code",
      "metadata": {
        "id": "lhhCmozjPTjZ"
      },
      "source": [
        ""
      ],
      "execution_count": null,
      "outputs": []
    }
  ]
}