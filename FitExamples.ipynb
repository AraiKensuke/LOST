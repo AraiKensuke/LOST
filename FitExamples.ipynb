{
  "nbformat": 4,
  "nbformat_minor": 0,
  "metadata": {
    "colab": {
      "name": "Untitled15.ipynb",
      "provenance": [],
      "authorship_tag": "ABX9TyNi3JOSnxhFIoPpOBxniCtG",
      "include_colab_link": true
    },
    "kernelspec": {
      "name": "python3",
      "display_name": "Python 3"
    }
  },
  "cells": [
    {
      "cell_type": "markdown",
      "metadata": {
        "id": "view-in-github",
        "colab_type": "text"
      },
      "source": [
        "<a href=\"https://colab.research.google.com/github/AraiKensuke/LOST/blob/Upgrade_python3/FitExamples.ipynb\" target=\"_parent\"><img src=\"https://colab.research.google.com/assets/colab-badge.svg\" alt=\"Open In Colab\"/></a>"
      ]
    },
    {
      "cell_type": "code",
      "metadata": {
        "id": "FPLl78q4f5qp",
        "colab": {
          "base_uri": "https://localhost:8080/"
        },
        "outputId": "34a7ba78-8cf7-4071-c134-d25517934a56"
      },
      "source": [
        "\n",
        "#########  clone and install necessary packages from github repositories\n",
        "\n",
        "import sys\n",
        "import importlib\n",
        "\n",
        "if importlib.util.find_spec(\"pyPG\") is None:\n",
        "  !git clone https://github.com/AraiKensuke/pyPG.git\n",
        "  %cd /content/pyPG/\n",
        "   ###  pyPG is written in C++/python, and uses the C library GNU Scientific Library.  \n",
        "  !sudo apt-get install libgsl-dev    \n",
        "  !python setup.py build_ext --inplace\n",
        "\n",
        "\n",
        "!git clone https://github.com/AraiKensuke/ka_tools.git\n",
        "\n",
        "\n"
      ],
      "execution_count": 1,
      "outputs": [
        {
          "output_type": "stream",
          "text": [
            "Cloning into 'pyPG'...\n",
            "remote: Enumerating objects: 90, done.\u001b[K\n",
            "remote: Total 90 (delta 0), reused 0 (delta 0), pack-reused 90\u001b[K\n",
            "Unpacking objects: 100% (90/90), done.\n",
            "/content/pyPG\n",
            "Reading package lists... Done\n",
            "Building dependency tree       \n",
            "Reading state information... Done\n",
            "The following additional packages will be installed:\n",
            "  libgsl23 libgslcblas0\n",
            "Suggested packages:\n",
            "  gsl-ref-psdoc | gsl-doc-pdf | gsl-doc-info | gsl-ref-html\n",
            "The following NEW packages will be installed:\n",
            "  libgsl-dev libgsl23 libgslcblas0\n",
            "0 upgraded, 3 newly installed, 0 to remove and 16 not upgraded.\n",
            "Need to get 1,926 kB of archives.\n",
            "After this operation, 9,474 kB of additional disk space will be used.\n",
            "Get:1 http://archive.ubuntu.com/ubuntu bionic/universe amd64 libgslcblas0 amd64 2.4+dfsg-6 [79.7 kB]\n",
            "Get:2 http://archive.ubuntu.com/ubuntu bionic/universe amd64 libgsl23 amd64 2.4+dfsg-6 [823 kB]\n",
            "Get:3 http://archive.ubuntu.com/ubuntu bionic/universe amd64 libgsl-dev amd64 2.4+dfsg-6 [1,023 kB]\n",
            "Fetched 1,926 kB in 1s (2,020 kB/s)\n",
            "debconf: unable to initialize frontend: Dialog\n",
            "debconf: (No usable dialog-like program is installed, so the dialog based frontend cannot be used. at /usr/share/perl5/Debconf/FrontEnd/Dialog.pm line 76, <> line 3.)\n",
            "debconf: falling back to frontend: Readline\n",
            "debconf: unable to initialize frontend: Readline\n",
            "debconf: (This frontend requires a controlling tty.)\n",
            "debconf: falling back to frontend: Teletype\n",
            "dpkg-preconfigure: unable to re-open stdin: \n",
            "Selecting previously unselected package libgslcblas0:amd64.\n",
            "(Reading database ... 145483 files and directories currently installed.)\n",
            "Preparing to unpack .../libgslcblas0_2.4+dfsg-6_amd64.deb ...\n",
            "Unpacking libgslcblas0:amd64 (2.4+dfsg-6) ...\n",
            "Selecting previously unselected package libgsl23:amd64.\n",
            "Preparing to unpack .../libgsl23_2.4+dfsg-6_amd64.deb ...\n",
            "Unpacking libgsl23:amd64 (2.4+dfsg-6) ...\n",
            "Selecting previously unselected package libgsl-dev.\n",
            "Preparing to unpack .../libgsl-dev_2.4+dfsg-6_amd64.deb ...\n",
            "Unpacking libgsl-dev (2.4+dfsg-6) ...\n",
            "Setting up libgslcblas0:amd64 (2.4+dfsg-6) ...\n",
            "Setting up libgsl23:amd64 (2.4+dfsg-6) ...\n",
            "Setting up libgsl-dev (2.4+dfsg-6) ...\n",
            "Processing triggers for man-db (2.8.3-2ubuntu0.1) ...\n",
            "Processing triggers for libc-bin (2.27-3ubuntu1.2) ...\n",
            "/sbin/ldconfig.real: /usr/local/lib/python3.6/dist-packages/ideep4py/lib/libmkldnn.so.0 is not a symbolic link\n",
            "\n",
            "/usr/lib/python3.6/distutils/dist.py:261: UserWarning: Unknown distribution option: 'email'\n",
            "  warnings.warn(msg)\n",
            "running build_ext\n",
            "building 'pyPG/pyPG_cpp_module' extension\n",
            "creating build\n",
            "creating build/temp.linux-x86_64-3.6\n",
            "creating build/temp.linux-x86_64-3.6/pyPG\n",
            "creating build/temp.linux-x86_64-3.6/pyPG/include\n",
            "creating build/temp.linux-x86_64-3.6/pyPG/include/RNG\n",
            "g++ -DNDEBUG -g -fwrapv -O2 -Wall -g -fstack-protector-strong -Wformat -Werror=format-security -Wdate-time -D_FORTIFY_SOURCE=2 -fPIC -I/usr/include/python3.6m -I/usr/local/lib/python3.6/dist-packages/numpy/core/include -IpyPG/include/RNG -I/usr/local/include -I/usr/include/python3.6m -c pyPG/PLogitWrapper.cpp -o build/temp.linux-x86_64-3.6/pyPG/PLogitWrapper.o -fPIC -shared -DNTHROW\n",
            "In file included from \u001b[01m\u001b[K/usr/local/lib/python3.6/dist-packages/numpy/core/include/numpy/ndarraytypes.h:1822:0\u001b[m\u001b[K,\n",
            "                 from \u001b[01m\u001b[K/usr/local/lib/python3.6/dist-packages/numpy/core/include/numpy/ndarrayobject.h:12\u001b[m\u001b[K,\n",
            "                 from \u001b[01m\u001b[K/usr/local/lib/python3.6/dist-packages/numpy/core/include/numpy/arrayobject.h:4\u001b[m\u001b[K,\n",
            "                 from \u001b[01m\u001b[KpyPG/PLogitWrapper.cpp:22\u001b[m\u001b[K:\n",
            "\u001b[01m\u001b[K/usr/local/lib/python3.6/dist-packages/numpy/core/include/numpy/npy_1_7_deprecated_api.h:17:2:\u001b[m\u001b[K \u001b[01;35m\u001b[Kwarning: \u001b[m\u001b[K#warning \"Using deprecated NumPy API, disable it with \" \"#define NPY_NO_DEPRECATED_API NPY_1_7_API_VERSION\" [\u001b[01;35m\u001b[K-Wcpp\u001b[m\u001b[K]\n",
            " #\u001b[01;35m\u001b[Kwarning\u001b[m\u001b[K \"Using deprecated NumPy API, disable it with \" \\\n",
            "  \u001b[01;35m\u001b[K^~~~~~~\u001b[m\u001b[K\n",
            "\u001b[01m\u001b[KpyPG/PLogitWrapper.cpp:\u001b[m\u001b[K In function ‘\u001b[01m\u001b[KPyObject* rpg_devroye(PyObject*, PyObject*)\u001b[m\u001b[K’:\n",
            "\u001b[01m\u001b[KpyPG/PLogitWrapper.cpp:51:12:\u001b[m\u001b[K \u001b[01;35m\u001b[Kwarning: \u001b[m\u001b[Kunused variable ‘\u001b[01m\u001b[Ki\u001b[m\u001b[K’ [\u001b[01;35m\u001b[K-Wunused-variable\u001b[m\u001b[K]\n",
            "   int num, \u001b[01;35m\u001b[Ki\u001b[m\u001b[K, xst, nst, zst;\n",
            "            \u001b[01;35m\u001b[K^\u001b[m\u001b[K\n",
            "\u001b[01m\u001b[KpyPG/PLogitWrapper.cpp:51:15:\u001b[m\u001b[K \u001b[01;35m\u001b[Kwarning: \u001b[m\u001b[Kunused variable ‘\u001b[01m\u001b[Kxst\u001b[m\u001b[K’ [\u001b[01;35m\u001b[K-Wunused-variable\u001b[m\u001b[K]\n",
            "   int num, i, \u001b[01;35m\u001b[Kxst\u001b[m\u001b[K, nst, zst;\n",
            "               \u001b[01;35m\u001b[K^~~\u001b[m\u001b[K\n",
            "\u001b[01m\u001b[KpyPG/PLogitWrapper.cpp:51:20:\u001b[m\u001b[K \u001b[01;35m\u001b[Kwarning: \u001b[m\u001b[Kunused variable ‘\u001b[01m\u001b[Knst\u001b[m\u001b[K’ [\u001b[01;35m\u001b[K-Wunused-variable\u001b[m\u001b[K]\n",
            "   int num, i, xst, \u001b[01;35m\u001b[Knst\u001b[m\u001b[K, zst;\n",
            "                    \u001b[01;35m\u001b[K^~~\u001b[m\u001b[K\n",
            "\u001b[01m\u001b[KpyPG/PLogitWrapper.cpp:51:25:\u001b[m\u001b[K \u001b[01;35m\u001b[Kwarning: \u001b[m\u001b[Kunused variable ‘\u001b[01m\u001b[Kzst\u001b[m\u001b[K’ [\u001b[01;35m\u001b[K-Wunused-variable\u001b[m\u001b[K]\n",
            "   int num, i, xst, nst, \u001b[01;35m\u001b[Kzst\u001b[m\u001b[K;\n",
            "                         \u001b[01;35m\u001b[K^~~\u001b[m\u001b[K\n",
            "\u001b[01m\u001b[KpyPG/PLogitWrapper.cpp:\u001b[m\u001b[K In function ‘\u001b[01m\u001b[KPyObject* rpg_gamma(PyObject*, PyObject*)\u001b[m\u001b[K’:\n",
            "\u001b[01m\u001b[KpyPG/PLogitWrapper.cpp:68:12:\u001b[m\u001b[K \u001b[01;35m\u001b[Kwarning: \u001b[m\u001b[Kunused variable ‘\u001b[01m\u001b[Kmxth\u001b[m\u001b[K’ [\u001b[01;35m\u001b[K-Wunused-variable\u001b[m\u001b[K]\n",
            "   int num, \u001b[01;35m\u001b[Kmxth\u001b[m\u001b[K, tid, i, trunc;\n",
            "            \u001b[01;35m\u001b[K^~~~\u001b[m\u001b[K\n",
            "\u001b[01m\u001b[KpyPG/PLogitWrapper.cpp:68:18:\u001b[m\u001b[K \u001b[01;35m\u001b[Kwarning: \u001b[m\u001b[Kunused variable ‘\u001b[01m\u001b[Ktid\u001b[m\u001b[K’ [\u001b[01;35m\u001b[K-Wunused-variable\u001b[m\u001b[K]\n",
            "   int num, mxth, \u001b[01;35m\u001b[Ktid\u001b[m\u001b[K, i, trunc;\n",
            "                  \u001b[01;35m\u001b[K^~~\u001b[m\u001b[K\n",
            "\u001b[01m\u001b[KpyPG/PLogitWrapper.cpp:68:23:\u001b[m\u001b[K \u001b[01;35m\u001b[Kwarning: \u001b[m\u001b[Kunused variable ‘\u001b[01m\u001b[Ki\u001b[m\u001b[K’ [\u001b[01;35m\u001b[K-Wunused-variable\u001b[m\u001b[K]\n",
            "   int num, mxth, tid, \u001b[01;35m\u001b[Ki\u001b[m\u001b[K, trunc;\n",
            "                       \u001b[01;35m\u001b[K^\u001b[m\u001b[K\n",
            "\u001b[01m\u001b[KpyPG/PLogitWrapper.cpp:72:11:\u001b[m\u001b[K \u001b[01;35m\u001b[Kwarning: \u001b[m\u001b[Kunused variable ‘\u001b[01m\u001b[Kdx\u001b[m\u001b[K’ [\u001b[01;35m\u001b[K-Wunused-variable\u001b[m\u001b[K]\n",
            "   double *\u001b[01;35m\u001b[Kdx\u001b[m\u001b[K    = (double*)x->data;\n",
            "           \u001b[01;35m\u001b[K^~\u001b[m\u001b[K\n",
            "\u001b[01m\u001b[KpyPG/PLogitWrapper.cpp:73:11:\u001b[m\u001b[K \u001b[01;35m\u001b[Kwarning: \u001b[m\u001b[Kunused variable ‘\u001b[01m\u001b[Kdh\u001b[m\u001b[K’ [\u001b[01;35m\u001b[K-Wunused-variable\u001b[m\u001b[K]\n",
            "   int    *\u001b[01;35m\u001b[Kdh\u001b[m\u001b[K    = (int*)h->data;\n",
            "           \u001b[01;35m\u001b[K^~\u001b[m\u001b[K\n",
            "\u001b[01m\u001b[KpyPG/PLogitWrapper.cpp:74:11:\u001b[m\u001b[K \u001b[01;35m\u001b[Kwarning: \u001b[m\u001b[Kunused variable ‘\u001b[01m\u001b[Kdz\u001b[m\u001b[K’ [\u001b[01;35m\u001b[K-Wunused-variable\u001b[m\u001b[K]\n",
            "   double *\u001b[01;35m\u001b[Kdz\u001b[m\u001b[K    = (double*)z->data;\n",
            "           \u001b[01;35m\u001b[K^~\u001b[m\u001b[K\n",
            "\u001b[01m\u001b[KpyPG/PLogitWrapper.cpp:\u001b[m\u001b[K In function ‘\u001b[01m\u001b[KPyObject* PyInit_pyPG_cpp_module()\u001b[m\u001b[K’:\n",
            "\u001b[01m\u001b[KpyPG/PLogitWrapper.cpp:89:7:\u001b[m\u001b[K \u001b[01;35m\u001b[Kwarning: \u001b[m\u001b[Kunused variable ‘\u001b[01m\u001b[Ki\u001b[m\u001b[K’ [\u001b[01;35m\u001b[K-Wunused-variable\u001b[m\u001b[K]\n",
            "   int \u001b[01;35m\u001b[Ki\u001b[m\u001b[K;\n",
            "       \u001b[01;35m\u001b[K^\u001b[m\u001b[K\n",
            "\u001b[01m\u001b[KpyPG/PLogitWrapper.cpp:\u001b[m\u001b[K At global scope:\n",
            "\u001b[01m\u001b[KpyPG/PLogitWrapper.cpp:65:18:\u001b[m\u001b[K \u001b[01;35m\u001b[Kwarning: \u001b[m\u001b[K‘\u001b[01m\u001b[KPyObject* rpg_gamma(PyObject*, PyObject*)\u001b[m\u001b[K’ defined but not used [\u001b[01;35m\u001b[K-Wunused-function\u001b[m\u001b[K]\n",
            " static PyObject *\u001b[01;35m\u001b[Krpg_gamma\u001b[m\u001b[K(PyObject *self, PyObject *args)\n",
            "                  \u001b[01;35m\u001b[K^~~~~~~~~\u001b[m\u001b[K\n",
            "In file included from \u001b[01m\u001b[K/usr/local/lib/python3.6/dist-packages/numpy/core/include/numpy/ndarrayobject.h:21:0\u001b[m\u001b[K,\n",
            "                 from \u001b[01m\u001b[K/usr/local/lib/python3.6/dist-packages/numpy/core/include/numpy/arrayobject.h:4\u001b[m\u001b[K,\n",
            "                 from \u001b[01m\u001b[KpyPG/PLogitWrapper.cpp:22\u001b[m\u001b[K:\n",
            "\u001b[01m\u001b[K/usr/local/lib/python3.6/dist-packages/numpy/core/include/numpy/__multiarray_api.h:1463:1:\u001b[m\u001b[K \u001b[01;35m\u001b[Kwarning: \u001b[m\u001b[K‘\u001b[01m\u001b[Kint _import_array()\u001b[m\u001b[K’ defined but not used [\u001b[01;35m\u001b[K-Wunused-function\u001b[m\u001b[K]\n",
            " \u001b[01;35m\u001b[K_import_array\u001b[m\u001b[K(void)\n",
            " \u001b[01;35m\u001b[K^~~~~~~~~~~~~\u001b[m\u001b[K\n",
            "g++ -DNDEBUG -g -fwrapv -O2 -Wall -g -fstack-protector-strong -Wformat -Werror=format-security -Wdate-time -D_FORTIFY_SOURCE=2 -fPIC -I/usr/include/python3.6m -I/usr/local/lib/python3.6/dist-packages/numpy/core/include -IpyPG/include/RNG -I/usr/local/include -I/usr/include/python3.6m -c pyPG/PolyaGamma.cpp -o build/temp.linux-x86_64-3.6/pyPG/PolyaGamma.o -fPIC -shared -DNTHROW\n",
            "g++ -DNDEBUG -g -fwrapv -O2 -Wall -g -fstack-protector-strong -Wformat -Werror=format-security -Wdate-time -D_FORTIFY_SOURCE=2 -fPIC -I/usr/include/python3.6m -I/usr/local/lib/python3.6/dist-packages/numpy/core/include -IpyPG/include/RNG -I/usr/local/include -I/usr/include/python3.6m -c pyPG/PolyaGammaAlt.cpp -o build/temp.linux-x86_64-3.6/pyPG/PolyaGammaAlt.o -fPIC -shared -DNTHROW\n",
            "g++ -DNDEBUG -g -fwrapv -O2 -Wall -g -fstack-protector-strong -Wformat -Werror=format-security -Wdate-time -D_FORTIFY_SOURCE=2 -fPIC -I/usr/include/python3.6m -I/usr/local/lib/python3.6/dist-packages/numpy/core/include -IpyPG/include/RNG -I/usr/local/include -I/usr/include/python3.6m -c pyPG/PolyaGammaSP.cpp -o build/temp.linux-x86_64-3.6/pyPG/PolyaGammaSP.o -fPIC -shared -DNTHROW\n",
            "g++ -DNDEBUG -g -fwrapv -O2 -Wall -g -fstack-protector-strong -Wformat -Werror=format-security -Wdate-time -D_FORTIFY_SOURCE=2 -fPIC -I/usr/include/python3.6m -I/usr/local/lib/python3.6/dist-packages/numpy/core/include -IpyPG/include/RNG -I/usr/local/include -I/usr/include/python3.6m -c pyPG/LogitWrapper.cpp -o build/temp.linux-x86_64-3.6/pyPG/LogitWrapper.o -fPIC -shared -DNTHROW\n",
            "g++ -DNDEBUG -g -fwrapv -O2 -Wall -g -fstack-protector-strong -Wformat -Werror=format-security -Wdate-time -D_FORTIFY_SOURCE=2 -fPIC -I/usr/include/python3.6m -I/usr/local/lib/python3.6/dist-packages/numpy/core/include -IpyPG/include/RNG -I/usr/local/include -I/usr/include/python3.6m -c pyPG/FSF_nmix.cpp -o build/temp.linux-x86_64-3.6/pyPG/FSF_nmix.o -fPIC -shared -DNTHROW\n",
            "g++ -DNDEBUG -g -fwrapv -O2 -Wall -g -fstack-protector-strong -Wformat -Werror=format-security -Wdate-time -D_FORTIFY_SOURCE=2 -fPIC -I/usr/include/python3.6m -I/usr/local/lib/python3.6/dist-packages/numpy/core/include -IpyPG/include/RNG -I/usr/local/include -I/usr/include/python3.6m -c pyPG/InvertY.cpp -o build/temp.linux-x86_64-3.6/pyPG/InvertY.o -fPIC -shared -DNTHROW\n",
            "g++ -DNDEBUG -g -fwrapv -O2 -Wall -g -fstack-protector-strong -Wformat -Werror=format-security -Wdate-time -D_FORTIFY_SOURCE=2 -fPIC -I/usr/include/python3.6m -I/usr/local/lib/python3.6/dist-packages/numpy/core/include -IpyPG/include/RNG -I/usr/local/include -I/usr/include/python3.6m -c pyPG/InvertY2.cpp -o build/temp.linux-x86_64-3.6/pyPG/InvertY2.o -fPIC -shared -DNTHROW\n",
            "g++ -DNDEBUG -g -fwrapv -O2 -Wall -g -fstack-protector-strong -Wformat -Werror=format-security -Wdate-time -D_FORTIFY_SOURCE=2 -fPIC -I/usr/include/python3.6m -I/usr/local/lib/python3.6/dist-packages/numpy/core/include -IpyPG/include/RNG -I/usr/local/include -I/usr/include/python3.6m -c pyPG/HHWrapper.cpp -o build/temp.linux-x86_64-3.6/pyPG/HHWrapper.o -fPIC -shared -DNTHROW\n",
            "g++ -DNDEBUG -g -fwrapv -O2 -Wall -g -fstack-protector-strong -Wformat -Werror=format-security -Wdate-time -D_FORTIFY_SOURCE=2 -fPIC -I/usr/include/python3.6m -I/usr/local/lib/python3.6/dist-packages/numpy/core/include -IpyPG/include/RNG -I/usr/local/include -I/usr/include/python3.6m -c pyPG/include/RNG/GRNG.cpp -o build/temp.linux-x86_64-3.6/pyPG/include/RNG/GRNG.o -fPIC -shared -DNTHROW\n",
            "g++ -DNDEBUG -g -fwrapv -O2 -Wall -g -fstack-protector-strong -Wformat -Werror=format-security -Wdate-time -D_FORTIFY_SOURCE=2 -fPIC -I/usr/include/python3.6m -I/usr/local/lib/python3.6/dist-packages/numpy/core/include -IpyPG/include/RNG -I/usr/local/include -I/usr/include/python3.6m -c pyPG/include/RNG/RNG.cpp -o build/temp.linux-x86_64-3.6/pyPG/include/RNG/RNG.o -fPIC -shared -DNTHROW\n",
            "g++ -pthread -shared -Wl,-O1 -Wl,-Bsymbolic-functions -Wl,-Bsymbolic-functions -Wl,-z,relro -Wl,-Bsymbolic-functions -Wl,-z,relro -g -fstack-protector-strong -Wformat -Werror=format-security -Wdate-time -D_FORTIFY_SOURCE=2 build/temp.linux-x86_64-3.6/pyPG/PLogitWrapper.o build/temp.linux-x86_64-3.6/pyPG/PolyaGamma.o build/temp.linux-x86_64-3.6/pyPG/PolyaGammaAlt.o build/temp.linux-x86_64-3.6/pyPG/PolyaGammaSP.o build/temp.linux-x86_64-3.6/pyPG/LogitWrapper.o build/temp.linux-x86_64-3.6/pyPG/FSF_nmix.o build/temp.linux-x86_64-3.6/pyPG/InvertY.o build/temp.linux-x86_64-3.6/pyPG/InvertY2.o build/temp.linux-x86_64-3.6/pyPG/HHWrapper.o build/temp.linux-x86_64-3.6/pyPG/include/RNG/GRNG.o build/temp.linux-x86_64-3.6/pyPG/include/RNG/RNG.o -L/usr/local/lib -lgsl -o /content/pyPG/pyPG/pyPG_cpp_module.cpython-36m-x86_64-linux-gnu.so -lgsl -lgslcblas\n",
            "Cloning into 'ka_tools'...\n",
            "remote: Enumerating objects: 7, done.\u001b[K\n",
            "remote: Counting objects: 100% (7/7), done.\u001b[K\n",
            "remote: Compressing objects: 100% (5/5), done.\u001b[K\n",
            "remote: Total 7 (delta 1), reused 7 (delta 1), pack-reused 0\u001b[K\n",
            "Unpacking objects: 100% (7/7), done.\n"
          ],
          "name": "stdout"
        }
      ]
    },
    {
      "cell_type": "code",
      "metadata": {
        "id": "hMT1FQbtraW7"
      },
      "source": [
        "if importlib.util.find_spec(\"LOST\") is None:\n",
        "  %cd /content\n",
        "  !git clone https://github.com/AraiKensuke/LOST.git\n",
        "  %cd /content/LOST\n",
        "\n",
        "  !python setup.py build_ext --inplace\n",
        "\n",
        "sys.path.insert(1, \"/content/LOST\")    #  add these to searchpath for python modules\n",
        "sys.path.insert(1, \"/content/pyPG\")    #  add these to searchpath for python modules\n",
        "%cd ..\n",
        "\n",
        "\n",
        "#from google.colab import files\n",
        "#uploaded = files.upload()"
      ],
      "execution_count": null,
      "outputs": []
    },
    {
      "cell_type": "code",
      "metadata": {
        "id": "KBapb_ff8Rd_",
        "outputId": "c78348b9-7e53-48a3-d1f1-bb86aa856edb",
        "colab": {
          "base_uri": "https://localhost:8080/",
          "height": 374
        }
      },
      "source": [
        "\"\"\"\n",
        "Template to invoke Latent Oscillation in Spike Train (LOST) model\n",
        "\n",
        "There are \n",
        "\"\"\"\n",
        "\n",
        "import numpy as _N\n",
        "import os \n",
        "import LOST.mcmcARp_ram as _mARp\n",
        "import ka_tools.filetools as _katft\n",
        "import inspect\n",
        "\n",
        "# #_plt.ioff()\n",
        "\n",
        "\n",
        "# #########    already existing\n",
        "# spkdatfn=\"testosc2\"\n",
        "# basespkdatfn=spkdatfn\n",
        "# spkdatpath=\"DATA/%s/spk_dat.dat\"  % basespkdatfn\n",
        "#########    \n",
        "import LOST.exampledat.ex1 as exmp\n",
        "spkdatfn=\"ex1\"\n",
        "basespkdatfn=spkdatfn\n",
        "_katft.make_deep_directory(\"DATA/%s\"  % basespkdatfn)\n",
        "spkdatpath=\"DATA/%s/spk_dat.dat\"  % basespkdatfn\n",
        "\n",
        "_N.savetxt(spkdatpath, exmp.spk_dat, fmt=\"%d\")\n",
        "\n",
        "runlabel = 1\n",
        "outdir=\"OUT/%(bsd)s%(rl)d\" % {\"bsd\" : basespkdatfn, \"rl\" : runlabel}\n",
        "_katft.make_deep_directory(outdir)\n",
        "#########\n",
        "\n",
        "myfn = inspect.getfile(inspect.currentframe())\n",
        "os.system(\"cp %(myfn)s %(outdir)s/runLost.py\" % {\"myfn\" : myfn, \"outdir\" : outdir})\n",
        "\n",
        "###################  params and settings\n",
        "bRealDat         = False      #  is our data real data <lfp> <fltrd> <spk 0 1>\n",
        "pkldSmpls        = \"smplsN.dump\"   #  last Gibbs samples, pickled for continuation\n",
        "postModes        = None       #  MAP estimate of parameters\n",
        "dontrun          = False      #  just construct mARp from pickle\n",
        "\n",
        "tr0 = 0\n",
        "tr1 = 2\n",
        "nwpr= \"wp\"\n",
        "R   = 1\n",
        "CnpCs = 3\n",
        "__exec_base_fn__ = inspect.getfile(inspect.currentframe())[0:-3]\n",
        "#nwpr, tr0, tr1, CnpCs, R = pF.parseFN(__exec_base_fn__)\n",
        "Cn               = CnpCs - 1\n",
        "\n",
        "mARp = _mARp.mcmcARp()\n",
        "if nwpr == \"wp\":\n",
        "    mARp.sig_ph0H =-(0.97*0.97)\n",
        "\n",
        "mARp.mcmcRunDir = outdir\n",
        "mARp.burn     = 1000\n",
        "mARp.ITERS    = 30000\n",
        "mARp.NMC      = 0\n",
        "mARp.peek     = 200\n",
        "mARp.model    = \"bernoulli\"\n",
        "mARp.t0       = 0\n",
        "mARp.t1       = 1500\n",
        "mARp.ID_q2    = False\n",
        "mARp.bpsth    = True\n",
        "#mARp.dohist   = False\n",
        "mARp.dt       = 0.001\n",
        "mARp.histFN   = \"\"\n",
        "mARp.ifs      = [(0.3 / mARp.fSigMax) * _N.pi]    #  initial values\n",
        "mARp.Cn       = Cn\n",
        "mARp.R        = R\n",
        "mARp.knownSigFN= None\n",
        "mARp.xknownSig=0.9\n",
        "mARp.BsmpxSkp = 10\n",
        "mARp.doBsmpx  = True\n",
        "mARp.noAR     = False\n",
        "mARp.processes= 1\n",
        "mARp.downsamp = True\n",
        "\n",
        "mARp.run(spkdatpath, outdir, trials=_N.arange(tr0, tr1), runlatent=False, dontrun=False)\n",
        "    \n",
        "#plotFsAmp(mARp, dir=__exec_base_fn__)\n",
        "#mARp.dump_smps(mARp.burn, dir=outdir)\n",
        "\n"
      ],
      "execution_count": 14,
      "outputs": [
        {
          "output_type": "error",
          "ename": "ModuleNotFoundError",
          "evalue": "ignored",
          "traceback": [
            "\u001b[0;31m---------------------------------------------------------------------------\u001b[0m",
            "\u001b[0;31mModuleNotFoundError\u001b[0m                       Traceback (most recent call last)",
            "\u001b[0;32m<ipython-input-14-2cc1824e2913>\u001b[0m in \u001b[0;36m<module>\u001b[0;34m()\u001b[0m\n\u001b[1;32m     19\u001b[0m \u001b[0;31m# spkdatpath=\"DATA/%s/spk_dat.dat\"  % basespkdatfn\u001b[0m\u001b[0;34m\u001b[0m\u001b[0;34m\u001b[0m\u001b[0;34m\u001b[0m\u001b[0m\n\u001b[1;32m     20\u001b[0m \u001b[0;31m#########\u001b[0m\u001b[0;34m\u001b[0m\u001b[0;34m\u001b[0m\u001b[0;34m\u001b[0m\u001b[0m\n\u001b[0;32m---> 21\u001b[0;31m \u001b[0;32mimport\u001b[0m \u001b[0mLOST\u001b[0m\u001b[0;34m.\u001b[0m\u001b[0mexampledat\u001b[0m\u001b[0;34m.\u001b[0m\u001b[0mex1\u001b[0m \u001b[0;32mas\u001b[0m \u001b[0mexmp\u001b[0m\u001b[0;34m\u001b[0m\u001b[0;34m\u001b[0m\u001b[0m\n\u001b[0m\u001b[1;32m     22\u001b[0m \u001b[0mspkdatfn\u001b[0m\u001b[0;34m=\u001b[0m\u001b[0;34m\"ex1\"\u001b[0m\u001b[0;34m\u001b[0m\u001b[0;34m\u001b[0m\u001b[0m\n\u001b[1;32m     23\u001b[0m \u001b[0mbasespkdatfn\u001b[0m\u001b[0;34m=\u001b[0m\u001b[0mspkdatfn\u001b[0m\u001b[0;34m\u001b[0m\u001b[0;34m\u001b[0m\u001b[0m\n",
            "\u001b[0;31mModuleNotFoundError\u001b[0m: No module named 'LOST.exampledat'",
            "",
            "\u001b[0;31m---------------------------------------------------------------------------\u001b[0;32m\nNOTE: If your import is failing due to a missing package, you can\nmanually install dependencies using either !pip or !apt.\n\nTo view examples of installing some common dependencies, click the\n\"Open Examples\" button below.\n\u001b[0;31m---------------------------------------------------------------------------\u001b[0m\n"
          ]
        }
      ]
    },
    {
      "cell_type": "code",
      "metadata": {
        "id": "cX78o_vD-iER",
        "outputId": "60aa83ec-31e1-4ba9-89ef-b0b55f663cee",
        "colab": {
          "base_uri": "https://localhost:8080/",
          "height": 304
        }
      },
      "source": [
        "import LOST"
      ],
      "execution_count": 4,
      "outputs": [
        {
          "output_type": "error",
          "ename": "ModuleNotFoundError",
          "evalue": "ignored",
          "traceback": [
            "\u001b[0;31m---------------------------------------------------------------------------\u001b[0m",
            "\u001b[0;31mModuleNotFoundError\u001b[0m                       Traceback (most recent call last)",
            "\u001b[0;32m<ipython-input-4-ccf65f2ea230>\u001b[0m in \u001b[0;36m<module>\u001b[0;34m()\u001b[0m\n\u001b[0;32m----> 1\u001b[0;31m \u001b[0;32mimport\u001b[0m \u001b[0mLOST\u001b[0m\u001b[0;34m\u001b[0m\u001b[0;34m\u001b[0m\u001b[0m\n\u001b[0m",
            "\u001b[0;31mModuleNotFoundError\u001b[0m: No module named 'LOST'",
            "",
            "\u001b[0;31m---------------------------------------------------------------------------\u001b[0;32m\nNOTE: If your import is failing due to a missing package, you can\nmanually install dependencies using either !pip or !apt.\n\nTo view examples of installing some common dependencies, click the\n\"Open Examples\" button below.\n\u001b[0;31m---------------------------------------------------------------------------\u001b[0m\n"
          ]
        }
      ]
    },
    {
      "cell_type": "code",
      "metadata": {
        "id": "3KaaBWGcA9BX",
        "outputId": "6c6af2df-a74b-47e6-8a9a-8b26832b05a4",
        "colab": {
          "base_uri": "https://localhost:8080/"
        }
      },
      "source": [
        "!ls /content/LOST"
      ],
      "execution_count": 8,
      "outputs": [
        {
          "output_type": "stream",
          "text": [
            "ARcfNoSmpl.py\t\t\t\t\t  kfcomMPmv_ram.pyx\n",
            "ARcfSmpl2.py\t\t\t\t\t  kflib.py\n",
            "ARcfSmplFuncs.py\t\t\t\t  LIFMTni2.py\n",
            "ARcfSmplNoMCMC.py\t\t\t\t  LIFMT.py\n",
            "ARlib.py\t\t\t\t\t  logerfc.pyx\n",
            "build\t\t\t\t\t\t  LOSTdirs.py\n",
            "chooseTrials.py\t\t\t\t\t  mcmcARpBM2_h_osc.py\n",
            "commdefs.py\t\t\t\t\t  mcmcARpBM2.py\n",
            "concat_smps.py\t\t\t\t\t  mcmcARpBM2_ram.py\n",
            "consthist.dat\t\t\t\t\t  mcmcARpFuncs.py\n",
            "dummyMARP.py\t\t\t\t\t  mcmcARpPlot.py\n",
            "filter.py\t\t\t\t\t  mcmcARp_ram.py\n",
            "FitExamples.ipynb\t\t\t\t  mcmcAR.py\n",
            "FromLocalFile.ipynb\t\t\t\t  mcmcARspk1_h.py\n",
            "glmVSar.py\t\t\t\t\t  mcmcARspk1.py\n",
            "__init__.py\t\t\t\t\t  mcmcARspk.py\n",
            "kdist.c\t\t\t\t\t\t  mcmcARwf.py\n",
            "kdist.cpython-36m-x86_64-linux-gnu.so\t\t  mcmcFigs.py\n",
            "kdist.pyx\t\t\t\t\t  mcmcNOARp.py\n",
            "kfardat.py\t\t\t\t\t  modhist2.py\n",
            "kfARlib1c.c\t\t\t\t\t  monitor_gibbs.py\n",
            "kfARlib1c.cpython-36m-x86_64-linux-gnu.so\t  multTime.py\n",
            "kfARlib1c.pyx\t\t\t\t\t  myColors.py\n",
            "kfARlib1.pyx\t\t\t\t\t  parseFN.py\n",
            "kfARlibMPmv_orig.pyx\t\t\t\t  rasterPlot.py\n",
            "kfARlibMPmv.pyx\t\t\t\t\t  README\n",
            "kfARlibMPmv_ram2.c\t\t\t\t  README.md\n",
            "kfARlibMPmv_ram2.cpython-36m-x86_64-linux-gnu.so  setup.py\n",
            "kfARlibMPmv_ram2.html\t\t\t\t  simulations\n",
            "kfARlibMPmv_ram2.pyx\t\t\t\t  spikeHistMT.py\n",
            "kfcomMPmv_orig.pyx\t\t\t\t  spikeHist.py\n",
            "kfcomMPmv.pyx\t\t\t\t\t  splineknots.py\n",
            "kfcomMPmv_ram.c\t\t\t\t\t  tmrsclTest.py\n",
            "kfcomMPmv_ram.cpython-36m-x86_64-linux-gnu.so\t  utildirs.py\n",
            "kfcomMPmv_ram.html\t\t\t\t  utilities.py\n"
          ],
          "name": "stdout"
        }
      ]
    },
    {
      "cell_type": "code",
      "metadata": {
        "id": "DotB0C7WBKAO",
        "outputId": "79750826-0719-4684-9c0d-0664aa8b2a34",
        "colab": {
          "base_uri": "https://localhost:8080/"
        }
      },
      "source": [
        "!pwd"
      ],
      "execution_count": 9,
      "outputs": [
        {
          "output_type": "stream",
          "text": [
            "/content/LOST\n"
          ],
          "name": "stdout"
        }
      ]
    },
    {
      "cell_type": "code",
      "metadata": {
        "id": "FxdCEIYsBMNR"
      },
      "source": [
        "!cd ..\n"
      ],
      "execution_count": 10,
      "outputs": []
    },
    {
      "cell_type": "code",
      "metadata": {
        "id": "65tI-5PZBa8U",
        "outputId": "8491cdf5-77ec-4305-9e16-16b38d0b9f35",
        "colab": {
          "base_uri": "https://localhost:8080/"
        }
      },
      "source": [
        "!pwd"
      ],
      "execution_count": 11,
      "outputs": [
        {
          "output_type": "stream",
          "text": [
            "/content/LOST\n"
          ],
          "name": "stdout"
        }
      ]
    },
    {
      "cell_type": "code",
      "metadata": {
        "id": "uN4MLnsCBbnW",
        "outputId": "de2493f1-a8d2-4efe-f86d-47d01f4e0bd8",
        "colab": {
          "base_uri": "https://localhost:8080/"
        }
      },
      "source": [
        "%cd .."
      ],
      "execution_count": 12,
      "outputs": [
        {
          "output_type": "stream",
          "text": [
            "/content\n"
          ],
          "name": "stdout"
        }
      ]
    },
    {
      "cell_type": "code",
      "metadata": {
        "id": "472e8oDHBdtM"
      },
      "source": [
        "import LOST"
      ],
      "execution_count": 13,
      "outputs": []
    },
    {
      "cell_type": "code",
      "metadata": {
        "id": "0bQ4NBKdBfBW",
        "outputId": "c915dbd2-cb4d-44a1-ec6d-f58676411108",
        "colab": {
          "base_uri": "https://localhost:8080/"
        }
      },
      "source": [
        "LOST.mcmcARp_ram"
      ],
      "execution_count": 15,
      "outputs": [
        {
          "output_type": "execute_result",
          "data": {
            "text/plain": [
              "<module 'LOST.mcmcARp_ram' from '/content/LOST/mcmcARp_ram.py'>"
            ]
          },
          "metadata": {
            "tags": []
          },
          "execution_count": 15
        }
      ]
    },
    {
      "cell_type": "code",
      "metadata": {
        "id": "8jBUsvoGBoUr",
        "outputId": "84003c4f-8187-43f2-8c79-c20771d9aa69",
        "colab": {
          "base_uri": "https://localhost:8080/"
        }
      },
      "source": [
        "!ls /content/LOST"
      ],
      "execution_count": 16,
      "outputs": [
        {
          "output_type": "stream",
          "text": [
            "ARcfNoSmpl.py\t\t\t\t\t  kflib.py\n",
            "ARcfSmpl2.py\t\t\t\t\t  LIFMTni2.py\n",
            "ARcfSmplFuncs.py\t\t\t\t  LIFMT.py\n",
            "ARcfSmplNoMCMC.py\t\t\t\t  logerfc.pyx\n",
            "ARlib.py\t\t\t\t\t  LOSTdirs.py\n",
            "build\t\t\t\t\t\t  mcmcARpBM2_h_osc.py\n",
            "chooseTrials.py\t\t\t\t\t  mcmcARpBM2.py\n",
            "commdefs.py\t\t\t\t\t  mcmcARpBM2_ram.py\n",
            "concat_smps.py\t\t\t\t\t  mcmcARpFuncs.py\n",
            "consthist.dat\t\t\t\t\t  mcmcARpPlot.py\n",
            "dummyMARP.py\t\t\t\t\t  mcmcARp_ram.py\n",
            "filter.py\t\t\t\t\t  mcmcAR.py\n",
            "FitExamples.ipynb\t\t\t\t  mcmcARspk1_h.py\n",
            "FromLocalFile.ipynb\t\t\t\t  mcmcARspk1.py\n",
            "glmVSar.py\t\t\t\t\t  mcmcARspk.py\n",
            "__init__.py\t\t\t\t\t  mcmcARwf.py\n",
            "kdist.c\t\t\t\t\t\t  mcmcFigs.py\n",
            "kdist.cpython-36m-x86_64-linux-gnu.so\t\t  mcmcNOARp.py\n",
            "kdist.pyx\t\t\t\t\t  modhist2.py\n",
            "kfardat.py\t\t\t\t\t  monitor_gibbs.py\n",
            "kfARlib1c.c\t\t\t\t\t  multTime.py\n",
            "kfARlib1c.cpython-36m-x86_64-linux-gnu.so\t  myColors.py\n",
            "kfARlib1c.pyx\t\t\t\t\t  parseFN.py\n",
            "kfARlib1.pyx\t\t\t\t\t  __pycache__\n",
            "kfARlibMPmv_orig.pyx\t\t\t\t  rasterPlot.py\n",
            "kfARlibMPmv.pyx\t\t\t\t\t  README\n",
            "kfARlibMPmv_ram2.c\t\t\t\t  README.md\n",
            "kfARlibMPmv_ram2.cpython-36m-x86_64-linux-gnu.so  setup.py\n",
            "kfARlibMPmv_ram2.html\t\t\t\t  simulations\n",
            "kfARlibMPmv_ram2.pyx\t\t\t\t  spikeHistMT.py\n",
            "kfcomMPmv_orig.pyx\t\t\t\t  spikeHist.py\n",
            "kfcomMPmv.pyx\t\t\t\t\t  splineknots.py\n",
            "kfcomMPmv_ram.c\t\t\t\t\t  tmrsclTest.py\n",
            "kfcomMPmv_ram.cpython-36m-x86_64-linux-gnu.so\t  utildirs.py\n",
            "kfcomMPmv_ram.html\t\t\t\t  utilities.py\n",
            "kfcomMPmv_ram.pyx\n"
          ],
          "name": "stdout"
        }
      ]
    },
    {
      "cell_type": "code",
      "metadata": {
        "id": "WTZrycytBp97"
      },
      "source": [
        ""
      ],
      "execution_count": null,
      "outputs": []
    }
  ]
}